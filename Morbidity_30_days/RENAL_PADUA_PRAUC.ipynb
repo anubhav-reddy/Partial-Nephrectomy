{
 "cells": [
  {
   "cell_type": "code",
   "execution_count": 40,
   "metadata": {},
   "outputs": [],
   "source": [
    "import pandas as pd\n",
    "import numpy as np\n",
    "import re\n",
    "import matplotlib.pyplot as plt"
   ]
  },
  {
   "cell_type": "code",
   "execution_count": 41,
   "metadata": {},
   "outputs": [],
   "source": [
    "# Import prospective dataset\n",
    "df= pd.read_excel('H:/RediMinds/DRMahen/Preethi PN_Data validation_2014-2018.xlsx', sheet_name='PN_Data validation_2014-2018')"
   ]
  },
  {
   "cell_type": "code",
   "execution_count": 42,
   "metadata": {},
   "outputs": [],
   "source": [
    "# Import prospective dataset\n",
    "input_path = 'H:\\RediMinds\\VCQI'\n",
    "test = pd.read_csv(input_path+\"\\VCQI_clean_test_30_day_complications.csv\")"
   ]
  },
  {
   "cell_type": "code",
   "execution_count": 43,
   "metadata": {},
   "outputs": [],
   "source": [
    "test = test.merge(df[['PATIENTNUMBER','R.E.N.A.L.NEPHROSCORE', 'PADUASCORE']],left_on='PATIENTNUMBER',right_on='PATIENTNUMBER')"
   ]
  },
  {
   "cell_type": "code",
   "execution_count": 44,
   "metadata": {},
   "outputs": [],
   "source": [
    "test_renal = test.dropna(subset=['R.E.N.A.L.NEPHROSCORE']).copy()"
   ]
  },
  {
   "cell_type": "code",
   "execution_count": 45,
   "metadata": {
    "scrolled": true
   },
   "outputs": [
    {
     "data": {
      "text/plain": [
       "7       44\n",
       "8       41\n",
       "9       31\n",
       "5       25\n",
       "6       25\n",
       "10      19\n",
       "5a      16\n",
       "7p      15\n",
       "7a      15\n",
       "8p      14\n",
       "4       13\n",
       "9a      10\n",
       "5p       9\n",
       "6a       9\n",
       "6p       8\n",
       "8x       8\n",
       "11       7\n",
       "10x      7\n",
       "10p      6\n",
       "8a       6\n",
       "4a       5\n",
       "9p       5\n",
       "7x       4\n",
       "9x       4\n",
       "4p       3\n",
       "10a      3\n",
       "4x       2\n",
       "11x      2\n",
       "9ph      2\n",
       "6x       2\n",
       "11p      2\n",
       "8ah      1\n",
       "9xh      1\n",
       "6xh      1\n",
       "5x       1\n",
       "10ah     1\n",
       "9ah      1\n",
       "10ph     1\n",
       "Name: R.E.N.A.L.NEPHROSCORE, dtype: int64"
      ]
     },
     "execution_count": 45,
     "metadata": {},
     "output_type": "execute_result"
    }
   ],
   "source": [
    "test_renal['R.E.N.A.L.NEPHROSCORE'].value_counts()"
   ]
  },
  {
   "cell_type": "code",
   "execution_count": 46,
   "metadata": {},
   "outputs": [],
   "source": [
    "test_renal['RENAL_SCORE'] = test_renal['R.E.N.A.L.NEPHROSCORE'].map(lambda x : int(re.findall(r'\\d+', x)[0]))"
   ]
  },
  {
   "cell_type": "code",
   "execution_count": 47,
   "metadata": {},
   "outputs": [],
   "source": [
    "x = test_renal['RENAL_SCORE'].unique().tolist()"
   ]
  },
  {
   "cell_type": "code",
   "execution_count": 48,
   "metadata": {},
   "outputs": [],
   "source": [
    "x.sort()#reverse=True)"
   ]
  },
  {
   "cell_type": "code",
   "execution_count": 49,
   "metadata": {},
   "outputs": [
    {
     "data": {
      "text/plain": [
       "[4, 5, 6, 7, 8, 9, 10, 11]"
      ]
     },
     "execution_count": 49,
     "metadata": {},
     "output_type": "execute_result"
    }
   ],
   "source": [
    "x"
   ]
  },
  {
   "cell_type": "code",
   "execution_count": 50,
   "metadata": {
    "scrolled": true
   },
   "outputs": [],
   "source": [
    "dict_precision = {}\n",
    "dict_recall = {}\n",
    "from sklearn import metrics\n",
    "for i in x:\n",
    "    test_renal['Pred'] = test_renal['RENAL_SCORE'].apply(lambda y: 1 if y>=i else 0)\n",
    "    #print(i, metrics.confusion_matrix(test['INTRA_OP_COMPLICATIONS'], test['Pred']))\n",
    "    dict_precision.update({i:metrics.precision_score(test_renal['POSTOP_COMPLICATIONS'], test_renal['Pred'])})\n",
    "    dict_recall.update({i:metrics.recall_score(test_renal['POSTOP_COMPLICATIONS'], test_renal['Pred'])})"
   ]
  },
  {
   "cell_type": "code",
   "execution_count": 51,
   "metadata": {},
   "outputs": [
    {
     "data": {
      "text/plain": [
       "{4: 0.21951219512195122,\n",
       " 5: 0.22254335260115607,\n",
       " 6: 0.22372881355932203,\n",
       " 7: 0.24,\n",
       " 8: 0.22093023255813954,\n",
       " 9: 0.22549019607843138,\n",
       " 10: 0.20833333333333334,\n",
       " 11: 0.2727272727272727}"
      ]
     },
     "execution_count": 51,
     "metadata": {},
     "output_type": "execute_result"
    }
   ],
   "source": [
    "dict_precision"
   ]
  },
  {
   "cell_type": "code",
   "execution_count": 52,
   "metadata": {},
   "outputs": [
    {
     "data": {
      "text/plain": [
       "{4: 1.0,\n",
       " 5: 0.9506172839506173,\n",
       " 6: 0.8148148148148148,\n",
       " 7: 0.7407407407407407,\n",
       " 8: 0.4691358024691358,\n",
       " 9: 0.2839506172839506,\n",
       " 10: 0.12345679012345678,\n",
       " 11: 0.037037037037037035}"
      ]
     },
     "execution_count": 52,
     "metadata": {},
     "output_type": "execute_result"
    }
   ],
   "source": [
    "dict_recall"
   ]
  },
  {
   "cell_type": "code",
   "execution_count": 53,
   "metadata": {},
   "outputs": [
    {
     "data": {
      "text/plain": [
       "0.21792278130011383"
      ]
     },
     "execution_count": 53,
     "metadata": {},
     "output_type": "execute_result"
    }
   ],
   "source": [
    "metrics.auc(list(dict_recall.values()),list(dict_precision.values()))"
   ]
  },
  {
   "cell_type": "code",
   "execution_count": 54,
   "metadata": {},
   "outputs": [
    {
     "data": {
      "text/plain": [
       "[<matplotlib.lines.Line2D at 0x239466f2908>]"
      ]
     },
     "execution_count": 54,
     "metadata": {},
     "output_type": "execute_result"
    },
    {
     "data": {
      "image/png": "[encoded data removed]",
      "text/plain": [
       "<Figure size 432x288 with 1 Axes>"
      ]
     },
     "metadata": {
      "needs_background": "light"
     },
     "output_type": "display_data"
    }
   ],
   "source": [
    "plt.xlim([0, 1])\n",
    "plt.ylim([0, 1])\n",
    "plt.plot(list(dict_recall.values()),list(dict_precision.values()))"
   ]
  },
  {
   "cell_type": "markdown",
   "metadata": {},
   "source": [
    "### Calculate AUC-PR for PADUA Score"
   ]
  },
  {
   "cell_type": "code",
   "execution_count": 55,
   "metadata": {},
   "outputs": [],
   "source": [
    "test_padua = test.dropna(subset=['PADUASCORE']).copy()"
   ]
  },
  {
   "cell_type": "code",
   "execution_count": 56,
   "metadata": {
    "scrolled": true
   },
   "outputs": [
    {
     "data": {
      "text/plain": [
       "7.0     95\n",
       "9.0     62\n",
       "8.0     62\n",
       "10.0    58\n",
       "11.0    41\n",
       "6.0     38\n",
       "12.0    24\n",
       "13.0     3\n",
       "5.0      1\n",
       "Name: PADUASCORE, dtype: int64"
      ]
     },
     "execution_count": 56,
     "metadata": {},
     "output_type": "execute_result"
    }
   ],
   "source": [
    "test_padua['PADUASCORE'].value_counts()"
   ]
  },
  {
   "cell_type": "code",
   "execution_count": 57,
   "metadata": {
    "scrolled": true
   },
   "outputs": [],
   "source": [
    "x = test_padua['PADUASCORE'].unique().tolist()"
   ]
  },
  {
   "cell_type": "code",
   "execution_count": 58,
   "metadata": {},
   "outputs": [],
   "source": [
    "x.sort(reverse=True)"
   ]
  },
  {
   "cell_type": "code",
   "execution_count": 59,
   "metadata": {},
   "outputs": [
    {
     "data": {
      "text/plain": [
       "[13.0, 12.0, 11.0, 10.0, 9.0, 8.0, 7.0, 6.0, 5.0]"
      ]
     },
     "execution_count": 59,
     "metadata": {},
     "output_type": "execute_result"
    }
   ],
   "source": [
    "x"
   ]
  },
  {
   "cell_type": "code",
   "execution_count": 60,
   "metadata": {
    "scrolled": true
   },
   "outputs": [],
   "source": [
    "dict_precision = {}\n",
    "dict_recall = {}\n",
    "from sklearn import metrics\n",
    "for i in x:\n",
    "    test_renal['Pred'] = test_renal['PADUASCORE'].apply(lambda y: 1 if y>=i else 0)\n",
    "    #print(i, metrics.confusion_matrix(test['INTRA_OP_COMPLICATIONS'], test['Pred']))\n",
    "    dict_precision.update({i:metrics.precision_score(test_renal['POSTOP_COMPLICATIONS'], test_renal['Pred'])})\n",
    "    dict_recall.update({i:metrics.recall_score(test_renal['POSTOP_COMPLICATIONS'], test_renal['Pred'])})"
   ]
  },
  {
   "cell_type": "code",
   "execution_count": 61,
   "metadata": {},
   "outputs": [
    {
     "data": {
      "text/plain": [
       "{13.0: 0.0,\n",
       " 12.0: 0.15384615384615385,\n",
       " 11.0: 0.2537313432835821,\n",
       " 10.0: 0.27049180327868855,\n",
       " 9.0: 0.24175824175824176,\n",
       " 8.0: 0.23045267489711935,\n",
       " 7.0: 0.22054380664652568,\n",
       " 6.0: 0.2191780821917808,\n",
       " 5.0: 0.22131147540983606}"
      ]
     },
     "execution_count": 61,
     "metadata": {},
     "output_type": "execute_result"
    }
   ],
   "source": [
    "dict_precision"
   ]
  },
  {
   "cell_type": "code",
   "execution_count": 62,
   "metadata": {},
   "outputs": [
    {
     "data": {
      "text/plain": [
       "{13.0: 0.0,\n",
       " 12.0: 0.04938271604938271,\n",
       " 11.0: 0.20987654320987653,\n",
       " 10.0: 0.4074074074074074,\n",
       " 9.0: 0.5432098765432098,\n",
       " 8.0: 0.691358024691358,\n",
       " 7.0: 0.9012345679012346,\n",
       " 6.0: 0.9876543209876543,\n",
       " 5.0: 1.0}"
      ]
     },
     "execution_count": 62,
     "metadata": {},
     "output_type": "execute_result"
    }
   ],
   "source": [
    "dict_recall"
   ]
  },
  {
   "cell_type": "code",
   "execution_count": 63,
   "metadata": {},
   "outputs": [
    {
     "data": {
      "text/plain": [
       "0.22708782027191238"
      ]
     },
     "execution_count": 63,
     "metadata": {},
     "output_type": "execute_result"
    }
   ],
   "source": [
    "metrics.auc(list(dict_recall.values()),list(dict_precision.values()))"
   ]
  },
  {
   "cell_type": "code",
   "execution_count": 64,
   "metadata": {},
   "outputs": [],
   "source": [
    "import matplotlib.pyplot as plt"
   ]
  },
  {
   "cell_type": "code",
   "execution_count": 65,
   "metadata": {},
   "outputs": [
    {
     "data": {
      "text/plain": [
       "[<matplotlib.lines.Line2D at 0x23949377e08>]"
      ]
     },
     "execution_count": 65,
     "metadata": {},
     "output_type": "execute_result"
    },
    {
     "data": {
      "image/png": "[encoded data removed]",
      "text/plain": [
       "<Figure size 432x288 with 1 Axes>"
      ]
     },
     "metadata": {
      "needs_background": "light"
     },
     "output_type": "display_data"
    }
   ],
   "source": [
    "plt.xlim([0, 1])\n",
    "plt.ylim([0, 1])\n",
    "plt.plot(list(dict_recall.values()),list(dict_precision.values()))"
   ]
  },
  {
   "cell_type": "code",
   "execution_count": null,
   "metadata": {},
   "outputs": [],
   "source": []
  }
 ],
 "metadata": {
  "kernelspec": {
   "display_name": "Python 3",
   "language": "python",
   "name": "python3"
  },
  "language_info": {
   "codemirror_mode": {
    "name": "ipython",
    "version": 3
   },
   "file_extension": ".py",
   "mimetype": "text/x-python",
   "name": "python",
   "nbconvert_exporter": "python",
   "pygments_lexer": "ipython3",
   "version": "3.7.4"
  }
 },
 "nbformat": 4,
 "nbformat_minor": 2
}
