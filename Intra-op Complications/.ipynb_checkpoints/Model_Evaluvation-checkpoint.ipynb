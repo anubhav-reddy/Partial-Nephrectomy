{
 "cells": [
  {
   "cell_type": "code",
   "execution_count": 1,
   "metadata": {},
   "outputs": [],
   "source": [
    "# import packages\n",
    "import pandas as pd\n",
    "import numpy as np\n",
    "import pickle\n",
    "from sklearn import metrics\n",
    "import tensorflow as tf\n",
    "from tensorflow import keras\n",
    "from sklearn.pipeline import Pipeline\n",
    "import os\n",
    "os.environ['CUDA_VISIBLE_DEVICES'] = '-1'"
   ]
  },
  {
   "cell_type": "code",
   "execution_count": 2,
   "metadata": {},
   "outputs": [],
   "source": [
    "# load test data\n",
    "input_path = 'H:\\RediMinds\\VCQI'\n",
    "#train = pd.read_csv(input_path+\"\\VCQI_clean_train.csv\")\n",
    "test = pd.read_csv(input_path+\"\\VCQI_clean_test.csv\")"
   ]
  },
  {
   "cell_type": "code",
   "execution_count": 3,
   "metadata": {},
   "outputs": [],
   "source": [
    "test.drop(labels=['PATIENTNUMBER'], inplace=True, axis=1)"
   ]
  },
  {
   "cell_type": "code",
   "execution_count": 4,
   "metadata": {},
   "outputs": [],
   "source": [
    "#x_train = train.drop(labels='INTRA_OP_COMPLICATIONS', axis = 'columns').copy()\n",
    "#y_train = train['INTRA_OP_COMPLICATIONS'].copy()\n",
    "x_test = test.drop(labels='INTRA_OP_COMPLICATIONS', axis = 'columns').copy()\n",
    "y_test = test['INTRA_OP_COMPLICATIONS'].copy() "
   ]
  },
  {
   "cell_type": "code",
   "execution_count": 5,
   "metadata": {},
   "outputs": [
    {
     "name": "stdout",
     "output_type": "stream",
     "text": [
      "% pos labels test 0.06\n"
     ]
    }
   ],
   "source": [
    "# check % of pos labels in test set\n",
    "#print('% pos labels train {:.2f}'.format(y_train.sum()/len(y_train)))\n",
    "print('% pos labels test {:.2f}'.format(y_test.sum()/len(y_test)))"
   ]
  },
  {
   "cell_type": "code",
   "execution_count": 6,
   "metadata": {},
   "outputs": [],
   "source": [
    "# Generate prediction for the Random Forest Model\n",
    "with open (input_path+'\\cat_col', 'rb') as fp:\n",
    "    cat_col = pickle.load(fp)\n",
    "\n",
    "model_path = 'output/models/'\n",
    "from joblib import load\n",
    "encoder = load(model_path+'OHE.joblib')"
   ]
  },
  {
   "cell_type": "code",
   "execution_count": 7,
   "metadata": {},
   "outputs": [],
   "source": [
    "# Create dummy variables\n",
    "one_hot_encoded_array = encoder.transform(x_test[cat_col]).toarray()\n",
    "column_name = encoder.get_feature_names(cat_col)\n",
    "x_test_OHE =  pd.DataFrame(one_hot_encoded_array, columns= column_name)\n",
    "x_test = x_test.merge(x_test_OHE, how = 'left', left_index = True, right_index =True) # create dummy variables\n",
    "x_test = x_test.drop(labels = cat_col, axis = 'columns') # drop original variables"
   ]
  },
  {
   "cell_type": "markdown",
   "metadata": {},
   "source": [
    "### Load Models"
   ]
  },
  {
   "cell_type": "code",
   "execution_count": 8,
   "metadata": {},
   "outputs": [],
   "source": [
    "model_path = 'output/models/'"
   ]
  },
  {
   "cell_type": "code",
   "execution_count": 9,
   "metadata": {},
   "outputs": [],
   "source": [
    "# import Decision Tree Classifier\n",
    "from joblib import load\n",
    "DTC = load(model_path+'DTC.joblib')\n"
   ]
  },
  {
   "cell_type": "code",
   "execution_count": 10,
   "metadata": {},
   "outputs": [],
   "source": [
    "# import Random Forest Classifer\n",
    "from joblib import load\n",
    "RFR = load(model_path+'RFR.joblib')"
   ]
  },
  {
   "cell_type": "code",
   "execution_count": 11,
   "metadata": {},
   "outputs": [],
   "source": [
    "# import Random Forest Classifer\n",
    "from joblib import load\n",
    "Logit = load(model_path+'Logit.joblib')"
   ]
  },
  {
   "cell_type": "code",
   "execution_count": 12,
   "metadata": {},
   "outputs": [],
   "source": [
    "# load Neural Network Model\n",
    "from joblib import load\n",
    "# Load the pipeline first:\n",
    "pipeline = load(model_path+'nn_pipeline.pkl')\n",
    "\n",
    "# Then, load the Keras model:\n",
    "pipeline_model = keras.models.load_model(model_path+'nn_model.h5')\n",
    "\n",
    "nn_model = Pipeline(steps=[('preprocessor', pipeline),\n",
    "                ('classifier',pipeline_model)\n",
    "               ])"
   ]
  },
  {
   "cell_type": "markdown",
   "metadata": {},
   "source": [
    "### Generate Predictions for the Test set"
   ]
  },
  {
   "cell_type": "code",
   "execution_count": 13,
   "metadata": {
    "scrolled": true
   },
   "outputs": [],
   "source": [
    "# Generate prediction for the Decsiion Tree Model\n",
    "results_DTC = pd.DataFrame(DTC.predict(x_test), columns=['pred_label'])\n",
    "results_DTC['pred_prob'] =  pd.DataFrame(DTC.predict_proba(x_test))[1]\n",
    "results_DTC['true_label'] = np.array(y_test)"
   ]
  },
  {
   "cell_type": "code",
   "execution_count": 14,
   "metadata": {},
   "outputs": [],
   "source": [
    "# Generate prediction for the Random Forest Model\n",
    "results_RFR = pd.DataFrame(RFR.predict(x_test), columns=['pred_label'])\n",
    "results_RFR['pred_prob'] =  pd.DataFrame(RFR.predict_proba(x_test))[1]\n",
    "results_RFR['true_label'] = np.array(y_test)"
   ]
  },
  {
   "cell_type": "code",
   "execution_count": 15,
   "metadata": {},
   "outputs": [],
   "source": [
    "\n",
    "# Generate prediction for the Logitic Regressions Model\n",
    "results_Logit = pd.DataFrame(Logit.predict(x_test), columns=['pred_label'])\n",
    "results_Logit['pred_prob'] =  pd.DataFrame(Logit.predict_proba(x_test))[1]\n",
    "results_Logit['true_label'] = np.array(y_test)"
   ]
  },
  {
   "cell_type": "code",
   "execution_count": 16,
   "metadata": {
    "scrolled": true
   },
   "outputs": [],
   "source": [
    "# Generate prediction for Neural Network Model\n",
    "\n",
    "# Generate prediction for the Neural Network Model\n",
    "results_NN = pd.DataFrame(nn_model.predict(x_test), columns=['pred_prob'])\n",
    "results_NN['pred_label'] =  results_NN['pred_prob'].apply(lambda x: 1 if x>=0.5 else 0)\n",
    "results_NN['true_label'] = np.array(y_test)"
   ]
  },
  {
   "cell_type": "markdown",
   "metadata": {},
   "source": [
    "### Performance of the models for the testset"
   ]
  },
  {
   "cell_type": "code",
   "execution_count": 18,
   "metadata": {},
   "outputs": [
    {
     "name": "stdout",
     "output_type": "stream",
     "text": [
      "AUC-ROC DTC: 0.790\n",
      "AUC-ROC LOGIT: 0.825\n",
      "AUC-ROC RFR: 0.858\n",
      "PR-AUC DTC: 0.615\n",
      "PR-AUC LOGIT: 0.357\n",
      "PR-AUC RFR: 0.569\n"
     ]
    }
   ],
   "source": [
    "# Define function to calculate Precision-Recall Curve\n",
    "def calc_aucpr_data(result):\n",
    "    y_ACTUAL = result['true_label']\n",
    "    scores_prob = result['pred_prob']\n",
    "    yhat = result['pred_label']\n",
    "    precision, recall, thresholds = metrics.precision_recall_curve(y_ACTUAL, scores_prob, pos_label=1)\n",
    "    prc_auc = metrics.auc(recall,precision)\n",
    "    return prc_auc\n",
    "\n",
    "\n",
    "print(\"AUC-ROC DTC: {:.3f}\".format(metrics.roc_auc_score(results_DTC['true_label'], results_DTC['pred_prob'])))\n",
    "print(\"AUC-ROC LOGIT: {:.3f}\".format(metrics.roc_auc_score(results_Logit['true_label'], results_Logit['pred_prob'])))\n",
    "print(\"AUC-ROC RFR: {:.3f}\".format(metrics.roc_auc_score(results_RFR['true_label'], results_RFR['pred_prob'])))\n",
    "#print(\"AUC-ROC NN: {:.3f}\".format(metrics.roc_auc_score(results_NN['true_label'], results_NN['pred_prob'])))\n",
    "\n",
    "\n",
    "print(\"PR-AUC DTC: {:.3f}\".format(calc_aucpr_data(results_DTC)))\n",
    "print(\"PR-AUC LOGIT: {:.3f}\".format(calc_aucpr_data(results_Logit)))\n",
    "print(\"PR-AUC RFR: {:.3f}\".format(calc_aucpr_data(results_RFR)))\n",
    "#print(\"PR-AUC NN: {:.3f}\".format(calc_aucpr_data(results_NN)))"
   ]
  },
  {
   "cell_type": "code",
   "execution_count": 19,
   "metadata": {},
   "outputs": [
    {
     "ename": "ValueError",
     "evalue": "Input contains NaN, infinity or a value too large for dtype('float32').",
     "output_type": "error",
     "traceback": [
      "\u001b[1;31m---------------------------------------------------------------------------\u001b[0m",
      "\u001b[1;31mValueError\u001b[0m                                Traceback (most recent call last)",
      "\u001b[1;32m<ipython-input-19-2012cede262c>\u001b[0m in \u001b[0;36m<module>\u001b[1;34m\u001b[0m\n\u001b[0;32m     25\u001b[0m \u001b[0mfpr_Logit\u001b[0m\u001b[1;33m,\u001b[0m \u001b[0mtpr_Logit\u001b[0m\u001b[1;33m,\u001b[0m \u001b[0mthresholds_Logit\u001b[0m\u001b[1;33m,\u001b[0m \u001b[0mroc_auc_Logit\u001b[0m \u001b[1;33m=\u001b[0m \u001b[0mcalc_aucroc_data\u001b[0m\u001b[1;33m(\u001b[0m\u001b[0mresults_Logit\u001b[0m\u001b[1;33m)\u001b[0m\u001b[1;33m\u001b[0m\u001b[1;33m\u001b[0m\u001b[0m\n\u001b[0;32m     26\u001b[0m \u001b[0mfpr_RFR\u001b[0m\u001b[1;33m,\u001b[0m \u001b[0mtpr_RFR\u001b[0m\u001b[1;33m,\u001b[0m \u001b[0mthresholds_RFR\u001b[0m\u001b[1;33m,\u001b[0m \u001b[0mroc_auc_RFR\u001b[0m \u001b[1;33m=\u001b[0m \u001b[0mcalc_aucroc_data\u001b[0m\u001b[1;33m(\u001b[0m\u001b[0mresults_RFR\u001b[0m\u001b[1;33m)\u001b[0m\u001b[1;33m\u001b[0m\u001b[1;33m\u001b[0m\u001b[0m\n\u001b[1;32m---> 27\u001b[1;33m \u001b[0mfpr_NN\u001b[0m\u001b[1;33m,\u001b[0m \u001b[0mtpr_NN\u001b[0m\u001b[1;33m,\u001b[0m \u001b[0mthresholds_NN\u001b[0m\u001b[1;33m,\u001b[0m \u001b[0mroc_auc_NN\u001b[0m \u001b[1;33m=\u001b[0m \u001b[0mcalc_aucroc_data\u001b[0m\u001b[1;33m(\u001b[0m\u001b[0mresults_NN\u001b[0m\u001b[1;33m)\u001b[0m\u001b[1;33m\u001b[0m\u001b[1;33m\u001b[0m\u001b[0m\n\u001b[0m\u001b[0;32m     28\u001b[0m \u001b[1;33m\u001b[0m\u001b[0m\n\u001b[0;32m     29\u001b[0m \u001b[1;31m#recall_DTC, precision_DTC, f1_DTC, prc_auc_DTC, mortality_ratio = calc_aucpr_data(results_DTC)\u001b[0m\u001b[1;33m\u001b[0m\u001b[1;33m\u001b[0m\u001b[1;33m\u001b[0m\u001b[0m\n",
      "\u001b[1;32m<ipython-input-19-2012cede262c>\u001b[0m in \u001b[0;36mcalc_aucroc_data\u001b[1;34m(result)\u001b[0m\n\u001b[0;32m      6\u001b[0m     \u001b[0my_ACTUAL\u001b[0m\u001b[1;33m=\u001b[0m \u001b[0mresult\u001b[0m\u001b[1;33m[\u001b[0m\u001b[1;34m'true_label'\u001b[0m\u001b[1;33m]\u001b[0m\u001b[1;33m\u001b[0m\u001b[1;33m\u001b[0m\u001b[0m\n\u001b[0;32m      7\u001b[0m     \u001b[0mscores_prob\u001b[0m \u001b[1;33m=\u001b[0m \u001b[0mresult\u001b[0m\u001b[1;33m[\u001b[0m\u001b[1;34m'pred_prob'\u001b[0m\u001b[1;33m]\u001b[0m\u001b[1;33m\u001b[0m\u001b[1;33m\u001b[0m\u001b[0m\n\u001b[1;32m----> 8\u001b[1;33m     \u001b[0mfpr\u001b[0m\u001b[1;33m,\u001b[0m \u001b[0mtpr\u001b[0m\u001b[1;33m,\u001b[0m \u001b[0mthresholds\u001b[0m \u001b[1;33m=\u001b[0m \u001b[0mmetrics\u001b[0m\u001b[1;33m.\u001b[0m\u001b[0mroc_curve\u001b[0m\u001b[1;33m(\u001b[0m\u001b[0my_ACTUAL\u001b[0m\u001b[1;33m,\u001b[0m \u001b[0mscores_prob\u001b[0m\u001b[1;33m,\u001b[0m \u001b[0mpos_label\u001b[0m\u001b[1;33m=\u001b[0m\u001b[1;36m1\u001b[0m\u001b[1;33m)\u001b[0m\u001b[1;33m\u001b[0m\u001b[1;33m\u001b[0m\u001b[0m\n\u001b[0m\u001b[0;32m      9\u001b[0m     \u001b[0mroc_auc\u001b[0m \u001b[1;33m=\u001b[0m \u001b[0mmetrics\u001b[0m\u001b[1;33m.\u001b[0m\u001b[0mauc\u001b[0m\u001b[1;33m(\u001b[0m\u001b[0mfpr\u001b[0m\u001b[1;33m,\u001b[0m \u001b[0mtpr\u001b[0m\u001b[1;33m)\u001b[0m\u001b[1;33m\u001b[0m\u001b[1;33m\u001b[0m\u001b[0m\n\u001b[0;32m     10\u001b[0m     \u001b[1;32mreturn\u001b[0m \u001b[0mfpr\u001b[0m\u001b[1;33m,\u001b[0m \u001b[0mtpr\u001b[0m\u001b[1;33m,\u001b[0m \u001b[0mthresholds\u001b[0m\u001b[1;33m,\u001b[0m \u001b[0mroc_auc\u001b[0m\u001b[1;33m\u001b[0m\u001b[1;33m\u001b[0m\u001b[0m\n",
      "\u001b[1;32m~\\Anaconda3\\envs\\Tensorflow\\lib\\site-packages\\sklearn\\metrics\\ranking.py\u001b[0m in \u001b[0;36mroc_curve\u001b[1;34m(y_true, y_score, pos_label, sample_weight, drop_intermediate)\u001b[0m\n\u001b[0;32m    620\u001b[0m     \"\"\"\n\u001b[0;32m    621\u001b[0m     fps, tps, thresholds = _binary_clf_curve(\n\u001b[1;32m--> 622\u001b[1;33m         y_true, y_score, pos_label=pos_label, sample_weight=sample_weight)\n\u001b[0m\u001b[0;32m    623\u001b[0m \u001b[1;33m\u001b[0m\u001b[0m\n\u001b[0;32m    624\u001b[0m     \u001b[1;31m# Attempt to drop thresholds corresponding to points in between and\u001b[0m\u001b[1;33m\u001b[0m\u001b[1;33m\u001b[0m\u001b[1;33m\u001b[0m\u001b[0m\n",
      "\u001b[1;32m~\\Anaconda3\\envs\\Tensorflow\\lib\\site-packages\\sklearn\\metrics\\ranking.py\u001b[0m in \u001b[0;36m_binary_clf_curve\u001b[1;34m(y_true, y_score, pos_label, sample_weight)\u001b[0m\n\u001b[0;32m    400\u001b[0m     \u001b[0my_score\u001b[0m \u001b[1;33m=\u001b[0m \u001b[0mcolumn_or_1d\u001b[0m\u001b[1;33m(\u001b[0m\u001b[0my_score\u001b[0m\u001b[1;33m)\u001b[0m\u001b[1;33m\u001b[0m\u001b[1;33m\u001b[0m\u001b[0m\n\u001b[0;32m    401\u001b[0m     \u001b[0massert_all_finite\u001b[0m\u001b[1;33m(\u001b[0m\u001b[0my_true\u001b[0m\u001b[1;33m)\u001b[0m\u001b[1;33m\u001b[0m\u001b[1;33m\u001b[0m\u001b[0m\n\u001b[1;32m--> 402\u001b[1;33m     \u001b[0massert_all_finite\u001b[0m\u001b[1;33m(\u001b[0m\u001b[0my_score\u001b[0m\u001b[1;33m)\u001b[0m\u001b[1;33m\u001b[0m\u001b[1;33m\u001b[0m\u001b[0m\n\u001b[0m\u001b[0;32m    403\u001b[0m \u001b[1;33m\u001b[0m\u001b[0m\n\u001b[0;32m    404\u001b[0m     \u001b[1;32mif\u001b[0m \u001b[0msample_weight\u001b[0m \u001b[1;32mis\u001b[0m \u001b[1;32mnot\u001b[0m \u001b[1;32mNone\u001b[0m\u001b[1;33m:\u001b[0m\u001b[1;33m\u001b[0m\u001b[1;33m\u001b[0m\u001b[0m\n",
      "\u001b[1;32m~\\Anaconda3\\envs\\Tensorflow\\lib\\site-packages\\sklearn\\utils\\validation.py\u001b[0m in \u001b[0;36massert_all_finite\u001b[1;34m(X, allow_nan)\u001b[0m\n\u001b[0;32m     70\u001b[0m     \u001b[0mallow_nan\u001b[0m \u001b[1;33m:\u001b[0m \u001b[0mbool\u001b[0m\u001b[1;33m\u001b[0m\u001b[1;33m\u001b[0m\u001b[0m\n\u001b[0;32m     71\u001b[0m     \"\"\"\n\u001b[1;32m---> 72\u001b[1;33m     \u001b[0m_assert_all_finite\u001b[0m\u001b[1;33m(\u001b[0m\u001b[0mX\u001b[0m\u001b[1;33m.\u001b[0m\u001b[0mdata\u001b[0m \u001b[1;32mif\u001b[0m \u001b[0msp\u001b[0m\u001b[1;33m.\u001b[0m\u001b[0missparse\u001b[0m\u001b[1;33m(\u001b[0m\u001b[0mX\u001b[0m\u001b[1;33m)\u001b[0m \u001b[1;32melse\u001b[0m \u001b[0mX\u001b[0m\u001b[1;33m,\u001b[0m \u001b[0mallow_nan\u001b[0m\u001b[1;33m)\u001b[0m\u001b[1;33m\u001b[0m\u001b[1;33m\u001b[0m\u001b[0m\n\u001b[0m\u001b[0;32m     73\u001b[0m \u001b[1;33m\u001b[0m\u001b[0m\n\u001b[0;32m     74\u001b[0m \u001b[1;33m\u001b[0m\u001b[0m\n",
      "\u001b[1;32m~\\Anaconda3\\envs\\Tensorflow\\lib\\site-packages\\sklearn\\utils\\validation.py\u001b[0m in \u001b[0;36m_assert_all_finite\u001b[1;34m(X, allow_nan)\u001b[0m\n\u001b[0;32m     54\u001b[0m                 not allow_nan and not np.isfinite(X).all()):\n\u001b[0;32m     55\u001b[0m             \u001b[0mtype_err\u001b[0m \u001b[1;33m=\u001b[0m \u001b[1;34m'infinity'\u001b[0m \u001b[1;32mif\u001b[0m \u001b[0mallow_nan\u001b[0m \u001b[1;32melse\u001b[0m \u001b[1;34m'NaN, infinity'\u001b[0m\u001b[1;33m\u001b[0m\u001b[1;33m\u001b[0m\u001b[0m\n\u001b[1;32m---> 56\u001b[1;33m             \u001b[1;32mraise\u001b[0m \u001b[0mValueError\u001b[0m\u001b[1;33m(\u001b[0m\u001b[0mmsg_err\u001b[0m\u001b[1;33m.\u001b[0m\u001b[0mformat\u001b[0m\u001b[1;33m(\u001b[0m\u001b[0mtype_err\u001b[0m\u001b[1;33m,\u001b[0m \u001b[0mX\u001b[0m\u001b[1;33m.\u001b[0m\u001b[0mdtype\u001b[0m\u001b[1;33m)\u001b[0m\u001b[1;33m)\u001b[0m\u001b[1;33m\u001b[0m\u001b[1;33m\u001b[0m\u001b[0m\n\u001b[0m\u001b[0;32m     57\u001b[0m     \u001b[1;31m# for object dtype data, we only check for NaNs (GH-13254)\u001b[0m\u001b[1;33m\u001b[0m\u001b[1;33m\u001b[0m\u001b[1;33m\u001b[0m\u001b[0m\n\u001b[0;32m     58\u001b[0m     \u001b[1;32melif\u001b[0m \u001b[0mX\u001b[0m\u001b[1;33m.\u001b[0m\u001b[0mdtype\u001b[0m \u001b[1;33m==\u001b[0m \u001b[0mnp\u001b[0m\u001b[1;33m.\u001b[0m\u001b[0mdtype\u001b[0m\u001b[1;33m(\u001b[0m\u001b[1;34m'object'\u001b[0m\u001b[1;33m)\u001b[0m \u001b[1;32mand\u001b[0m \u001b[1;32mnot\u001b[0m \u001b[0mallow_nan\u001b[0m\u001b[1;33m:\u001b[0m\u001b[1;33m\u001b[0m\u001b[1;33m\u001b[0m\u001b[0m\n",
      "\u001b[1;31mValueError\u001b[0m: Input contains NaN, infinity or a value too large for dtype('float32')."
     ]
    }
   ],
   "source": [
    "%matplotlib inline\n",
    "\n",
    "# Plotting AUROC Curve - Calculatae Metrics\n",
    "from sklearn import metrics\n",
    "def calc_aucroc_data(result):\n",
    "    y_ACTUAL= result['true_label']\n",
    "    scores_prob = result['pred_prob']\n",
    "    fpr, tpr, thresholds = metrics.roc_curve(y_ACTUAL, scores_prob, pos_label=1)\n",
    "    roc_auc = metrics.auc(fpr, tpr)\n",
    "    return fpr, tpr, thresholds, roc_auc\n",
    "\n",
    "def calc_aucpr_data(result):\n",
    "    y_ACTUAL = result['true_label']\n",
    "    scores_prob = result['pred_prob']\n",
    "    yhat = result['pred_label']\n",
    "    precision, recall, thresholds = metrics.precision_recall_curve(y_ACTUAL, scores_prob, pos_label=1)\n",
    "    prc_auc = metrics.auc(recall,precision)\n",
    "    f1 = metrics.f1_score(y_ACTUAL, yhat)\n",
    "    ap = metrics.average_precision_score(y_ACTUAL, yhat)\n",
    "    mortality_ratio = round(sum(result['true_label'])/(len(result['true_label'])),2)\n",
    "    return recall, precision, f1, prc_auc, mortality_ratio\n",
    "\n",
    "### Calculate metrics for models trained on original data\n",
    "#fpr_DTC, tpr_DTC, thresholds_DTC, roc_auc_DTC = calc_aucroc_data(results_DTC)\n",
    "fpr_Logit, tpr_Logit, thresholds_Logit, roc_auc_Logit = calc_aucroc_data(results_Logit)\n",
    "fpr_RFR, tpr_RFR, thresholds_RFR, roc_auc_RFR = calc_aucroc_data(results_RFR)\n",
    "fpr_NN, tpr_NN, thresholds_NN, roc_auc_NN = calc_aucroc_data(results_NN)\n",
    "\n",
    "#recall_DTC, precision_DTC, f1_DTC, prc_auc_DTC, mortality_ratio = calc_aucpr_data(results_DTC)\n",
    "recall_Logit, precision_Logit, f1_Logit, prc_auc_Logit, mortality_ratio = calc_aucpr_data(results_Logit)\n",
    "recall_RFR, precision_RFR, f1_RFR, prc_auc_RFR, mortality_ratio = calc_aucpr_data(results_RFR)\n",
    "recall_NN, precision_NN, f1_NN, prc_auc_NN, mortality_ratio = calc_aucpr_data(results_NN)\n",
    "\n",
    "### Calculate metrics for models trained on SMOTE imputed data\n",
    "#fpr_DTC, tpr_DTC, thresholds_DTC, roc_auc_DTC = calc_aucroc_data(results_SMOTE_DTC)\n",
    "#fpr_s_Logit, tpr_s_Logit, thresholds_s_Logit, roc_auc_s_Logit = calc_aucroc_data(results_SMOTE_Logit)\n",
    "#fpr_s_RFR,   tpr_s_RFR,   thresholds_s_RFR,   roc_auc_s_RFR   = calc_aucroc_data(results_SMOTE_RFR)\n",
    "#fpr_s_NN,    tpr_s_NN,    thresholds_s_NN,    roc_auc_s_NN    = calc_aucroc_data(results_SMOTE_NN)\n",
    "\n",
    "#recall_DTC, precision_DTC, f1_DTC, prc_auc_DTC, mortality_ratio = calc_aucpr_data(results_SMOTE_DTC)\n",
    "#recall_s_Logit, precision_s_Logit, f1_s_Logit, prc_auc_s_Logit, mortality_s_ratio = calc_aucpr_data(results_SMOTE_Logit)\n",
    "#recall_s_RFR,   precision_s_RFR,   f1_s_RFR,   prc_auc_s_RFR,   mortality_s_ratio = calc_aucpr_data(results_SMOTE_RFR)\n",
    "#recall_s_NN,    precision_s_NN,    f1_s_NN,    prc_auc_s_NN,    mortality_s_ratio = calc_aucpr_data(results_SMOTE_NN)\n",
    "\n",
    "# Plotting performance of models developed using original data\n",
    "import matplotlib.pyplot as plt\n",
    "fig, (ax1, ax2) = plt.subplots(1, 2,figsize=(16,6))\n",
    "fig.suptitle('Comparision of Models for Intraoperative Complications', fontsize=20, y=1)\n",
    "\n",
    "# Plotting AUROC Curve - Plot Curve\n",
    "ax1.set_title('Receiver Operating Characteristic',fontdict={\"size\":20})\n",
    "ax1.set_xlim([0, 1])\n",
    "ax1.set_ylim([0, 1])\n",
    "ax1.set_ylabel('True Positive Rate or Sensitivity', fontdict={\"size\":15})\n",
    "ax1.set_xlabel('False Positive Rate or 1-Specificity',fontdict={\"size\":15})\n",
    "\n",
    "#ax1.plot(fpr_DTC, tpr_DTC, label = 'AUC-ROC DTC = %0.2f' % roc_auc_DTC)\n",
    "ax1.plot(fpr_Logit, tpr_Logit, label = 'AUC-ROC LR_IOC = %0.2f' % roc_auc_Logit)\n",
    "ax1.plot(fpr_RFR, tpr_RFR, label = 'AUC-ROC RFC_IOC = %0.2f' % roc_auc_RFR)\n",
    "ax1.plot(fpr_NN, tpr_NN, label = 'AUC-ROC NN_IOC = %0.2f' % roc_auc_NN)\n",
    "#ax1.plot(fpr_s_Logit, tpr_s_Logit, label = 'AUC-ROC SMOTE_LR_IOC = %0.2f' % roc_auc_s_Logit)\n",
    "#ax1.plot(fpr_s_RFR, tpr_s_RFR, label = 'AUC-ROC SMOTE_RFC_IOC = %0.2f' % roc_auc_s_RFR)\n",
    "#ax1.plot(fpr_s_NN, tpr_s_NN, label = 'AUC-ROC SMOTE_NN_IOC = %0.2f' % roc_auc_s_NN)\n",
    "\n",
    "ax1.plot([0, 1], [0, 1],linestyle='--',color='red', label = 'No Skill Line')\n",
    "ax1.legend(loc='upper center', bbox_to_anchor=(0.5, -0.125), fontsize = 12)  \n",
    "\n",
    "# Plotting Precision-Recall Curve - PLot Curve\n",
    "ax2.set_title('Precision Recall Curve',fontdict={\"size\":20})\n",
    "ax2.set_xlim([0, 1])\n",
    "ax2.set_ylim([0, 1])\n",
    "ax2.set_ylabel('Precision',fontdict={\"size\":15})\n",
    "ax2.set_xlabel('Recall',fontdict={\"size\":15})\n",
    "\n",
    "#ax2.plot(recall_DTC, precision_DTC, label = 'PR-AUC DTC=%.2f' % (prc_auc_DTC))\n",
    "ax2.plot(recall_Logit, precision_Logit, label = 'PR-AUC LR_IOC=%.2f' % (prc_auc_Logit))\n",
    "ax2.plot(recall_RFR, precision_RFR, label = 'PR-AUC RFC_IOC=%.2f' % (prc_auc_RFR))\n",
    "ax2.plot(recall_NN, precision_NN, label = 'PR-AUC NN_IOC=%.2f' % (prc_auc_NN))\n",
    "#ax2.plot(recall_s_Logit, precision_s_Logit, label = 'PR-AUC SMOTE_LR_IOC=%.2f' % (prc_auc_s_Logit))\n",
    "#ax2.plot(recall_s_RFR, precision_s_RFR, label = 'PR-AUC SMOTE_RFC_IOC=%.2f' % (prc_auc_s_RFR))\n",
    "#ax2.plot(recall_s_NN, precision_s_NN, label = 'PR-AUC SMOTE_NN_IOC=%.2f' % (prc_auc_s_NN))\n",
    "positive_class_ratio = mortality_ratio\n",
    "ax2.plot([0, 1], [positive_class_ratio, positive_class_ratio],linestyle='--',color='red', label = 'No Skill Line')\n",
    "ax2.legend(loc='upper center', bbox_to_anchor=(0.5, -0.125),fontsize = 12)\n",
    "fig.show()\n",
    "\n"
   ]
  },
  {
   "cell_type": "code",
   "execution_count": 20,
   "metadata": {},
   "outputs": [
    {
     "name": "stderr",
     "output_type": "stream",
     "text": [
      "C:\\Users\\anubhav\\Anaconda3\\envs\\Tensorflow\\lib\\site-packages\\sklearn\\calibration.py:578: RuntimeWarning: invalid value encountered in less\n",
      "  elif y_prob.min() < 0 or y_prob.max() > 1:\n",
      "C:\\Users\\anubhav\\Anaconda3\\envs\\Tensorflow\\lib\\site-packages\\sklearn\\calibration.py:578: RuntimeWarning: invalid value encountered in greater\n",
      "  elif y_prob.min() < 0 or y_prob.max() > 1:\n",
      "C:\\Users\\anubhav\\Anaconda3\\envs\\Tensorflow\\lib\\site-packages\\ipykernel_launcher.py:43: UserWarning: Matplotlib is currently using module://ipykernel.pylab.backend_inline, which is a non-GUI backend, so cannot show the figure.\n"
     ]
    },
    {
     "data": {
      "image/png": "[encoded data removed]",
      "text/plain": [
       "<Figure size 1152x432 with 2 Axes>"
      ]
     },
     "metadata": {
      "needs_background": "light"
     },
     "output_type": "display_data"
    }
   ],
   "source": [
    "# Plotting Calibration curve\n",
    "from sklearn.calibration import calibration_curve\n",
    "\n",
    "def calib_curve(result):\n",
    "    x, y = calibration_curve(result['true_label'],result['pred_prob'],n_bins = 10, strategy='uniform')\n",
    "    return x, y\n",
    "\n",
    "x_DTC, y_DTC = calib_curve(results_DTC)\n",
    "x_Logit, y_Logit = calib_curve(results_Logit)\n",
    "x_RFR, y_RFR = calib_curve(results_RFR)\n",
    "x_NN, y_NN = calib_curve(results_NN)\n",
    "\n",
    "#x_SMOTE_DTC, y_SMOTE_DTC = calib_curve(results_SMOTE_DTC)\n",
    "#x_SMOTE_Logit, y_SMOTE_Logit = calib_curve(results_SMOTE_Logit)\n",
    "#x_SMOTE_RFR, y_SMOTE_RFR = calib_curve(results_SMOTE_RFR)\n",
    "#x_SMOTE_NN, y_SMOTE_NN = calib_curve(results_SMOTE_NN)\n",
    "\n",
    "\n",
    "import matplotlib.pyplot as plt\n",
    "fig, (ax1, ax2) = plt.subplots(1, 2,figsize=(16,6))\n",
    "fig.suptitle('Comparision of Calibration Plots (Reliability Curves)', fontsize=20)\n",
    "\n",
    "#ax1.plot(x_DTC, y_DTC, marker = 'o', color = 'tab:blue', label = 'DTC')\n",
    "ax1.plot(x_Logit, y_Logit, marker = 'o', color = 'tab:orange', label = 'LOGIT')\n",
    "ax1.plot(x_RFR, y_RFR, marker = 'o', color = 'tab:red', label = 'RFR')\n",
    "ax1.plot(x_NN, y_NN, marker = 'o', color = 'tab:green', label = 'NN')\n",
    "\n",
    "ax1.plot([0, 1], [0, 1],linestyle='--',color='black', label = 'Perfectly Calibrated')\n",
    "ax1.legend(loc='upper center', bbox_to_anchor=(0.5, -0.125),fontsize = 12)\n",
    "ax1.set_ylabel('Fraction of Positives',fontdict={\"size\":15})\n",
    "ax1.set_xlabel('Mean Predicted value',fontdict={\"size\":15})\n",
    "\n",
    "#ax2.plot(x_SMOTE_DTC, y_SMOTE_DTC, marker = 'o', color = 'tab:blue', label = 'DTC_SMOTE')\n",
    "#ax2.plot(x_SMOTE_Logit, y_SMOTE_Logit, marker = 'o', color = 'tab:orange', label = 'LOGIT_SMOTE')\n",
    "#ax2.plot(x_SMOTE_RFR, y_SMOTE_RFR, marker = 'o', color = 'tab:red', label = 'RFR_SMOTE')\n",
    "#ax2.plot(x_SMOTE_NN, y_SMOTE_NN, marker = 'o', color = 'tab:green', label = 'NN_SMOTE')\n",
    "\n",
    "ax2.plot([0, 1], [0, 1],linestyle='--',color='black', label = 'Perfectly Calibrated')\n",
    "ax2.legend(loc='upper center', bbox_to_anchor=(0.5, -0.125),fontsize = 12)\n",
    "ax2.set_ylabel('Fraction of Positives',fontdict={\"size\":15})\n",
    "ax2.set_xlabel('Mean Predicted value',fontdict={\"size\":15})\n",
    "\n",
    "fig.show()"
   ]
  },
  {
   "cell_type": "markdown",
   "metadata": {},
   "source": [
    "### Create bootstrapped confidence intervals for each model"
   ]
  },
  {
   "cell_type": "code",
   "execution_count": 93,
   "metadata": {},
   "outputs": [],
   "source": [
    "def bootstrapped_AUC(result):\n",
    "    \"\"\"\n",
    "    This function can be used to create bootstrapped estimate of AUCROC and PRAUC\n",
    "    The input for this funtion is a dataframe with following variables.\n",
    "    \n",
    "    Variables in dataframe\n",
    "    ----------------------\n",
    "    true_label : True label of testset\n",
    "    \n",
    "    pred_prob : The predicted probability\n",
    "    \n",
    "    pred_label : The predicted label\n",
    "    \"\"\"\n",
    "    from sklearn.utils import resample\n",
    "    #from tqdm import tqdm\n",
    "\n",
    "    n_iter = 10000\n",
    "    roc_auc = list()\n",
    "    prc_auc = list()\n",
    "\n",
    "\n",
    "    for i in range(n_iter):\n",
    "        result_sample = resample(result, n_samples = len(result),random_state=i)\n",
    "        #Calculating AUROC for each sample\n",
    "        y_ACTUAL= result_sample['true_label']\n",
    "        scores_prob = result_sample['pred_prob']\n",
    "        fpr, tpr, thresholds = metrics.roc_curve(y_ACTUAL, scores_prob, pos_label=1)\n",
    "        roc_auc.append(metrics.auc(fpr, tpr))\n",
    "\n",
    "        #calculate AUPRC for each sample\n",
    "        y_ACTUAL = result_sample['true_label']\n",
    "        scores_prob = result_sample['pred_prob']\n",
    "        yhat = result_sample['pred_label']\n",
    "        precision, recall, thresholds = metrics.precision_recall_curve(y_ACTUAL, scores_prob, pos_label=1)\n",
    "        prc_auc.append(metrics.auc(recall,precision))\n",
    "    \n",
    "    return roc_auc, prc_auc"
   ]
  },
  {
   "cell_type": "code",
   "execution_count": 94,
   "metadata": {},
   "outputs": [
    {
     "name": "stdout",
     "output_type": "stream",
     "text": [
      "Wall time: 1min 47s\n"
     ]
    }
   ],
   "source": [
    "%%time\n",
    "# Create bootstrapped estimates of AUCROC and PR\n",
    "roc_auc_LR, pr_auc_LR  = bootstrapped_AUC(results_Logit)\n",
    "roc_auc_RFR, pr_auc_RFR  = bootstrapped_AUC(results_RFR)\n",
    "roc_auc_NN, pr_auc_NN  = bootstrapped_AUC(results_NN)\n",
    "#roc_auc_SMOTE_LR, pr_auc_SMOTE_LR  = bootstrapped_AUC(results_SMOTE_Logit)\n",
    "#roc_auc_SMOTE_RFR, pr_auc_SMOTE_RFR  = bootstrapped_AUC(results_SMOTE_RFR)\n",
    "#roc_auc_SMOTE_NN, pr_auc_SMOTE_NN  = bootstrapped_AUC(results_SMOTE_NN)"
   ]
  },
  {
   "cell_type": "code",
   "execution_count": 95,
   "metadata": {},
   "outputs": [],
   "source": [
    "dict_AUCROC = {'roc_auc_LR': roc_auc_LR,\n",
    "               'roc_auc_RFR': roc_auc_RFR,\n",
    "               'roc_auc_NN': roc_auc_NN,\n",
    "               #'roc_auc_SMOTE_LR' : roc_auc_SMOTE_LR,\n",
    "               #'roc_auc_SMOTE_RFR': roc_auc_SMOTE_RFR,\n",
    "               #'roc_auc_SMOTE_NN' : roc_auc_SMOTE_NN\n",
    "              }\n",
    "\n",
    "dict_PRAUC = {'pr_auc_LR': pr_auc_LR,\n",
    "               'pr_auc_RFR': pr_auc_RFR,\n",
    "               'pr_auc_NN': pr_auc_NN,\n",
    "               #'pr_auc_SMOTE_LR' : pr_auc_SMOTE_LR,\n",
    "               #'pr_auc_SMOTE_RFR': pr_auc_SMOTE_RFR,\n",
    "               #'pr_auc_SMOTE_NN' : pr_auc_SMOTE_NN\n",
    "              }\n",
    "df_AUCROC = pd.DataFrame(dict_AUCROC)\n",
    "df_PRAUC = pd.DataFrame(dict_PRAUC)"
   ]
  },
  {
   "cell_type": "code",
   "execution_count": 96,
   "metadata": {},
   "outputs": [
    {
     "data": {
      "text/html": [
       "<div>\n",
       "<style scoped>\n",
       "    .dataframe tbody tr th:only-of-type {\n",
       "        vertical-align: middle;\n",
       "    }\n",
       "\n",
       "    .dataframe tbody tr th {\n",
       "        vertical-align: top;\n",
       "    }\n",
       "\n",
       "    .dataframe thead th {\n",
       "        text-align: right;\n",
       "    }\n",
       "</style>\n",
       "<table border=\"1\" class=\"dataframe\">\n",
       "  <thead>\n",
       "    <tr style=\"text-align: right;\">\n",
       "      <th></th>\n",
       "      <th>roc_auc_LR</th>\n",
       "      <th>roc_auc_RFR</th>\n",
       "      <th>roc_auc_NN</th>\n",
       "    </tr>\n",
       "  </thead>\n",
       "  <tbody>\n",
       "    <tr>\n",
       "      <td>0</td>\n",
       "      <td>0.903695</td>\n",
       "      <td>0.839370</td>\n",
       "      <td>0.900659</td>\n",
       "    </tr>\n",
       "    <tr>\n",
       "      <td>1</td>\n",
       "      <td>0.863853</td>\n",
       "      <td>0.853713</td>\n",
       "      <td>0.879064</td>\n",
       "    </tr>\n",
       "    <tr>\n",
       "      <td>2</td>\n",
       "      <td>0.852315</td>\n",
       "      <td>0.846142</td>\n",
       "      <td>0.868364</td>\n",
       "    </tr>\n",
       "    <tr>\n",
       "      <td>3</td>\n",
       "      <td>0.907098</td>\n",
       "      <td>0.878318</td>\n",
       "      <td>0.914554</td>\n",
       "    </tr>\n",
       "    <tr>\n",
       "      <td>4</td>\n",
       "      <td>0.794753</td>\n",
       "      <td>0.771296</td>\n",
       "      <td>0.815432</td>\n",
       "    </tr>\n",
       "  </tbody>\n",
       "</table>\n",
       "</div>"
      ],
      "text/plain": [
       "   roc_auc_LR  roc_auc_RFR  roc_auc_NN\n",
       "0    0.903695     0.839370    0.900659\n",
       "1    0.863853     0.853713    0.879064\n",
       "2    0.852315     0.846142    0.868364\n",
       "3    0.907098     0.878318    0.914554\n",
       "4    0.794753     0.771296    0.815432"
      ]
     },
     "execution_count": 96,
     "metadata": {},
     "output_type": "execute_result"
    }
   ],
   "source": [
    "df_AUCROC.head()"
   ]
  },
  {
   "cell_type": "code",
   "execution_count": 97,
   "metadata": {},
   "outputs": [
    {
     "data": {
      "text/html": [
       "<div>\n",
       "<style scoped>\n",
       "    .dataframe tbody tr th:only-of-type {\n",
       "        vertical-align: middle;\n",
       "    }\n",
       "\n",
       "    .dataframe tbody tr th {\n",
       "        vertical-align: top;\n",
       "    }\n",
       "\n",
       "    .dataframe thead th {\n",
       "        text-align: right;\n",
       "    }\n",
       "</style>\n",
       "<table border=\"1\" class=\"dataframe\">\n",
       "  <thead>\n",
       "    <tr style=\"text-align: right;\">\n",
       "      <th></th>\n",
       "      <th>pr_auc_LR</th>\n",
       "      <th>pr_auc_RFR</th>\n",
       "      <th>pr_auc_NN</th>\n",
       "    </tr>\n",
       "  </thead>\n",
       "  <tbody>\n",
       "    <tr>\n",
       "      <td>0</td>\n",
       "      <td>0.498662</td>\n",
       "      <td>0.605026</td>\n",
       "      <td>0.568219</td>\n",
       "    </tr>\n",
       "    <tr>\n",
       "      <td>1</td>\n",
       "      <td>0.325935</td>\n",
       "      <td>0.634333</td>\n",
       "      <td>0.475849</td>\n",
       "    </tr>\n",
       "    <tr>\n",
       "      <td>2</td>\n",
       "      <td>0.580101</td>\n",
       "      <td>0.684353</td>\n",
       "      <td>0.604137</td>\n",
       "    </tr>\n",
       "    <tr>\n",
       "      <td>3</td>\n",
       "      <td>0.404316</td>\n",
       "      <td>0.610898</td>\n",
       "      <td>0.458751</td>\n",
       "    </tr>\n",
       "    <tr>\n",
       "      <td>4</td>\n",
       "      <td>0.400440</td>\n",
       "      <td>0.521954</td>\n",
       "      <td>0.503890</td>\n",
       "    </tr>\n",
       "  </tbody>\n",
       "</table>\n",
       "</div>"
      ],
      "text/plain": [
       "   pr_auc_LR  pr_auc_RFR  pr_auc_NN\n",
       "0   0.498662    0.605026   0.568219\n",
       "1   0.325935    0.634333   0.475849\n",
       "2   0.580101    0.684353   0.604137\n",
       "3   0.404316    0.610898   0.458751\n",
       "4   0.400440    0.521954   0.503890"
      ]
     },
     "execution_count": 97,
     "metadata": {},
     "output_type": "execute_result"
    }
   ],
   "source": [
    "df_PRAUC.head()"
   ]
  },
  {
   "cell_type": "code",
   "execution_count": 98,
   "metadata": {},
   "outputs": [
    {
     "name": "stdout",
     "output_type": "stream",
     "text": [
      "roc_auc_LR 95%CI: 0.858 (95% CI 0.766,0.931)\n",
      "roc_auc_RFR 95%CI: 0.825 (95% CI 0.717,0.919)\n",
      "roc_auc_NN 95%CI: 0.869 (95% CI 0.785,0.938)\n"
     ]
    }
   ],
   "source": [
    "# Print Confidence intervals for AUCROC\n",
    "x = df_AUCROC.describe(percentiles=[0.025,0.975])\n",
    "for i in df_AUCROC.columns:\n",
    "    print(i+' 95%CI: {:.3f} (95% CI {:.3f},{:.3f})'.format(x[i]['mean'], x[i]['2.5%'], x[i]['97.5%']))"
   ]
  },
  {
   "cell_type": "code",
   "execution_count": 99,
   "metadata": {},
   "outputs": [
    {
     "name": "stdout",
     "output_type": "stream",
     "text": [
      "pr_auc_LR 95%CI: 0.407 (95% CI 0.217,0.611)\n",
      "pr_auc_RFR 95%CI: 0.585 (95% CI 0.394,0.756)\n",
      "pr_auc_NN 95%CI: 0.451 (95% CI 0.254,0.647)\n"
     ]
    }
   ],
   "source": [
    "# Print Confidence intervals for PRAUC\n",
    "x = df_PRAUC.describe(percentiles=[0.025,0.975])\n",
    "for i in df_PRAUC.columns:\n",
    "    print(i+' 95%CI: {:.3f} (95% CI {:.3f},{:.3f})'.format(x[i]['mean'], x[i]['2.5%'], x[i]['97.5%']))"
   ]
  },
  {
   "cell_type": "markdown",
   "metadata": {},
   "source": [
    "### Bootsrap Hypothesis Testing"
   ]
  },
  {
   "cell_type": "code",
   "execution_count": 100,
   "metadata": {},
   "outputs": [],
   "source": [
    "from sklearn.utils import resample\n",
    "def calculate_roc_auc(result):\n",
    "    #Calculating AUROC for each sample\n",
    "    y_ACTUAL= result['true_label']\n",
    "    scores_prob = result['pred_prob']\n",
    "    fpr, tpr, thresholds = metrics.roc_curve(y_ACTUAL, scores_prob, pos_label=1)\n",
    "    roc_auc = metrics.auc(fpr, tpr)\n",
    "\n",
    "    #calculate AUPRC for each sample\n",
    "    y_ACTUAL = result['true_label']\n",
    "    scores_prob = result['pred_prob']\n",
    "    yhat = result['pred_label']\n",
    "    precision, recall, thresholds = metrics.precision_recall_curve(y_ACTUAL, scores_prob, pos_label=1)\n",
    "    prc_auc = metrics.auc(recall,precision)\n",
    "    return roc_auc, prc_auc"
   ]
  },
  {
   "cell_type": "code",
   "execution_count": 101,
   "metadata": {},
   "outputs": [],
   "source": [
    "def permutaion_diff(x, y):\n",
    "    \"\"\"\n",
    "    This function creates a combined dataset under null hypothesis that there is no \n",
    "    difference between AUROC and PRAUC, of x and y.\n",
    "    10000 samples are taken from combined dataset of length x, y respectively and the\n",
    "    difference in AUCROC and PRROC is caulcated. \n",
    "    \n",
    "    \"\"\"\n",
    "    # Combining the results of both algorithms under assumption that there is no difference between the results\n",
    "    combined = pd.concat([x, y], sort = True)\n",
    "\n",
    "    # Draw 10000 samples from combined dataset for each of length x and y where x, y are results of agorithms being tested\n",
    "    # Calculate difference between the permuted sets\n",
    "\n",
    "\n",
    "    dif_bootstrap_auc = []\n",
    "    dif_bootstrap_prauc = []\n",
    "\n",
    "    for i in range(10000):\n",
    "        np.random.seed(i)\n",
    "        perms_auroc_x, perms_prauc_x = calculate_roc_auc(resample(combined, n_samples = len(x)))\n",
    "        perms_auroc_y, perms_prauc_y = calculate_roc_auc(resample(combined, n_samples = len(y)))\n",
    "        dif_bootstrap_auc.append(perms_auroc_x-perms_auroc_y)\n",
    "        dif_bootstrap_prauc.append(perms_prauc_x - perms_prauc_y)\n",
    "    return dif_bootstrap_auc, dif_bootstrap_prauc"
   ]
  },
  {
   "cell_type": "code",
   "execution_count": 116,
   "metadata": {},
   "outputs": [],
   "source": [
    "def permutaion_pvalue(x,y, bootstrap_diff,metric):\n",
    "    \"\"\"\n",
    "    This function will take the x,y and calculate observed difference in metric.\n",
    "    Check likelihood of getting the observed diff againt bootstrapped diff and provide p_value.\n",
    "    If bootstrap_diff contains diff of AUC-ROC values then select metric as 'AUCROC'.\n",
    "    If bootstrap_diff contains diff of PR-AUC values then select metric as 'PRAUC'.\n",
    "    \"\"\"\n",
    "    \n",
    "    if metric == 'AUCROC':\n",
    "        metric = 0\n",
    "    else: \n",
    "        metric = 1\n",
    "    \n",
    "    # Check the likelihood of getting observed differewnce in AUCROC and PRAUC\n",
    "    obs_difs = (calculate_roc_auc(x)[metric] - calculate_roc_auc(y)[metric])\n",
    "    #print('observed difference : {}'.format(obs_difs))\n",
    "    p_value = sum(bootstrap_diff >= obs_difs)/10000\n",
    "    #print('p-value: {}'.format(p_value))\n",
    "    return obs_difs, p_value"
   ]
  },
  {
   "cell_type": "code",
   "execution_count": 117,
   "metadata": {},
   "outputs": [],
   "source": [
    "def permutation_test(x,y):\n",
    "    \"\"\"\n",
    "    This esxecutes permutaion test to check if diff in AUCROC and PRAUC of two classifiers is significant\n",
    "    \"\"\"\n",
    "    dif_bootstrap_auc, dif_bootstrap_prauc = permutaion_diff(x,y)\n",
    "    obs_difs_AUCROC, p_value_AUCROC = permutaion_pvalue(x,y,dif_bootstrap_auc, metric = 'AUCROC')\n",
    "    obs_difs_PRAUC, p_value_PRAUC = permutaion_pvalue(x,y,dif_bootstrap_prauc, metric = 'PRAUC')\n",
    "    return [obs_difs_AUCROC, obs_difs_PRAUC, p_value_AUCROC, p_value_PRAUC]"
   ]
  },
  {
   "cell_type": "code",
   "execution_count": 121,
   "metadata": {},
   "outputs": [],
   "source": [
    "perm_stats = {'RFR_LR' : permutation_test(x = results_RFR, y = results_Logit),\n",
    "              'RFR_NN' : permutation_test(x = results_RFR, y = results_NN),\n",
    "              'LR_RFR' : permutation_test(x = results_Logit, y = results_RFR),\n",
    "              'NN_RFR' : permutation_test(x = results_NN, y = results_RFR),\n",
    "              'NN_LR'  : permutation_test(x = results_NN, y = results_Logit),\n",
    "              'LR_NN'  : permutation_test(x = results_Logit, y = results_NN)\n",
    "}"
   ]
  },
  {
   "cell_type": "code",
   "execution_count": 122,
   "metadata": {},
   "outputs": [],
   "source": [
    "df_perm_stats = pd.DataFrame(perm_stats, index=['obs_difs_AUCROC',\n",
    "                                               'obs_difs_PRAUC',\n",
    "                                               'p_value_AUCROC',\n",
    "                                               'p_value_PRAUC'])"
   ]
  },
  {
   "cell_type": "code",
   "execution_count": 123,
   "metadata": {},
   "outputs": [
    {
     "data": {
      "text/html": [
       "<div>\n",
       "<style scoped>\n",
       "    .dataframe tbody tr th:only-of-type {\n",
       "        vertical-align: middle;\n",
       "    }\n",
       "\n",
       "    .dataframe tbody tr th {\n",
       "        vertical-align: top;\n",
       "    }\n",
       "\n",
       "    .dataframe thead th {\n",
       "        text-align: right;\n",
       "    }\n",
       "</style>\n",
       "<table border=\"1\" class=\"dataframe\">\n",
       "  <thead>\n",
       "    <tr style=\"text-align: right;\">\n",
       "      <th></th>\n",
       "      <th>RFR_LR</th>\n",
       "      <th>RFR_NN</th>\n",
       "      <th>LR_RFR</th>\n",
       "      <th>NN_RFR</th>\n",
       "      <th>NN_LR</th>\n",
       "      <th>LR_NN</th>\n",
       "    </tr>\n",
       "  </thead>\n",
       "  <tbody>\n",
       "    <tr>\n",
       "      <td>obs_difs_AUCROC</td>\n",
       "      <td>-0.032434</td>\n",
       "      <td>-0.043767</td>\n",
       "      <td>0.032434</td>\n",
       "      <td>0.043767</td>\n",
       "      <td>0.011333</td>\n",
       "      <td>-0.011333</td>\n",
       "    </tr>\n",
       "    <tr>\n",
       "      <td>obs_difs_PRAUC</td>\n",
       "      <td>0.193721</td>\n",
       "      <td>0.136720</td>\n",
       "      <td>-0.193721</td>\n",
       "      <td>-0.136720</td>\n",
       "      <td>0.057001</td>\n",
       "      <td>-0.057001</td>\n",
       "    </tr>\n",
       "    <tr>\n",
       "      <td>p_value_AUCROC</td>\n",
       "      <td>0.668000</td>\n",
       "      <td>0.726200</td>\n",
       "      <td>0.342800</td>\n",
       "      <td>0.286400</td>\n",
       "      <td>0.424000</td>\n",
       "      <td>0.576000</td>\n",
       "    </tr>\n",
       "    <tr>\n",
       "      <td>p_value_PRAUC</td>\n",
       "      <td>0.084200</td>\n",
       "      <td>0.162200</td>\n",
       "      <td>0.917400</td>\n",
       "      <td>0.839900</td>\n",
       "      <td>0.345700</td>\n",
       "      <td>0.654100</td>\n",
       "    </tr>\n",
       "  </tbody>\n",
       "</table>\n",
       "</div>"
      ],
      "text/plain": [
       "                   RFR_LR    RFR_NN    LR_RFR    NN_RFR     NN_LR     LR_NN\n",
       "obs_difs_AUCROC -0.032434 -0.043767  0.032434  0.043767  0.011333 -0.011333\n",
       "obs_difs_PRAUC   0.193721  0.136720 -0.193721 -0.136720  0.057001 -0.057001\n",
       "p_value_AUCROC   0.668000  0.726200  0.342800  0.286400  0.424000  0.576000\n",
       "p_value_PRAUC    0.084200  0.162200  0.917400  0.839900  0.345700  0.654100"
      ]
     },
     "execution_count": 123,
     "metadata": {},
     "output_type": "execute_result"
    }
   ],
   "source": [
    "df_perm_stats"
   ]
  },
  {
   "cell_type": "code",
   "execution_count": 63,
   "metadata": {},
   "outputs": [
    {
     "data": {
      "text/plain": [
       "'C:\\\\Users\\\\anubhav\\\\Documents\\\\GitHub\\\\Partial-Nephrectomy\\\\Intra-op Complications'"
      ]
     },
     "execution_count": 63,
     "metadata": {},
     "output_type": "execute_result"
    }
   ],
   "source": [
    "pwd"
   ]
  },
  {
   "cell_type": "code",
   "execution_count": 64,
   "metadata": {},
   "outputs": [],
   "source": [
    "RFR_FI = pd.DataFrame(RFR.best_estimator_.feature_importances_.tolist(), index=x_test.columns, columns= ['importance']).reset_index()"
   ]
  },
  {
   "cell_type": "code",
   "execution_count": 65,
   "metadata": {},
   "outputs": [
    {
     "data": {
      "text/html": [
       "<div>\n",
       "<style scoped>\n",
       "    .dataframe tbody tr th:only-of-type {\n",
       "        vertical-align: middle;\n",
       "    }\n",
       "\n",
       "    .dataframe tbody tr th {\n",
       "        vertical-align: top;\n",
       "    }\n",
       "\n",
       "    .dataframe thead th {\n",
       "        text-align: right;\n",
       "    }\n",
       "</style>\n",
       "<table border=\"1\" class=\"dataframe\">\n",
       "  <thead>\n",
       "    <tr style=\"text-align: right;\">\n",
       "      <th></th>\n",
       "      <th>index</th>\n",
       "      <th>importance</th>\n",
       "    </tr>\n",
       "  </thead>\n",
       "  <tbody>\n",
       "    <tr>\n",
       "      <td>19</td>\n",
       "      <td>CENTERCODE_10</td>\n",
       "      <td>0.048643</td>\n",
       "    </tr>\n",
       "    <tr>\n",
       "      <td>1</td>\n",
       "      <td>BMI</td>\n",
       "      <td>0.042568</td>\n",
       "    </tr>\n",
       "    <tr>\n",
       "      <td>5</td>\n",
       "      <td>PREOPHT</td>\n",
       "      <td>0.042348</td>\n",
       "    </tr>\n",
       "    <tr>\n",
       "      <td>6</td>\n",
       "      <td>PREOPWBC</td>\n",
       "      <td>0.041051</td>\n",
       "    </tr>\n",
       "    <tr>\n",
       "      <td>0</td>\n",
       "      <td>AGEATSURGERY</td>\n",
       "      <td>0.035772</td>\n",
       "    </tr>\n",
       "    <tr>\n",
       "      <td>...</td>\n",
       "      <td>...</td>\n",
       "      <td>...</td>\n",
       "    </tr>\n",
       "    <tr>\n",
       "      <td>99</td>\n",
       "      <td>CT_5</td>\n",
       "      <td>0.000000</td>\n",
       "    </tr>\n",
       "    <tr>\n",
       "      <td>61</td>\n",
       "      <td>SIDEOFSURGERY_2</td>\n",
       "      <td>0.000000</td>\n",
       "    </tr>\n",
       "    <tr>\n",
       "      <td>72</td>\n",
       "      <td>PADUARISK_0</td>\n",
       "      <td>0.000000</td>\n",
       "    </tr>\n",
       "    <tr>\n",
       "      <td>48</td>\n",
       "      <td>SOLITARYKIDNEY_0</td>\n",
       "      <td>0.000000</td>\n",
       "    </tr>\n",
       "    <tr>\n",
       "      <td>98</td>\n",
       "      <td>CT_4</td>\n",
       "      <td>0.000000</td>\n",
       "    </tr>\n",
       "  </tbody>\n",
       "</table>\n",
       "<p>137 rows × 2 columns</p>\n",
       "</div>"
      ],
      "text/plain": [
       "               index  importance\n",
       "19     CENTERCODE_10    0.048643\n",
       "1                BMI    0.042568\n",
       "5            PREOPHT    0.042348\n",
       "6           PREOPWBC    0.041051\n",
       "0       AGEATSURGERY    0.035772\n",
       "..               ...         ...\n",
       "99              CT_5    0.000000\n",
       "61   SIDEOFSURGERY_2    0.000000\n",
       "72       PADUARISK_0    0.000000\n",
       "48  SOLITARYKIDNEY_0    0.000000\n",
       "98              CT_4    0.000000\n",
       "\n",
       "[137 rows x 2 columns]"
      ]
     },
     "execution_count": 65,
     "metadata": {},
     "output_type": "execute_result"
    }
   ],
   "source": [
    "RFR_FI.sort_values(by = 'importance', ascending=False)"
   ]
  },
  {
   "cell_type": "code",
   "execution_count": 66,
   "metadata": {
    "scrolled": true
   },
   "outputs": [
    {
     "data": {
      "text/plain": [
       "'CT'"
      ]
     },
     "execution_count": 66,
     "metadata": {},
     "output_type": "execute_result"
    }
   ],
   "source": [
    "import re\n",
    "import string\n",
    "re.sub('_\\d{1,3}','','CT_4')"
   ]
  },
  {
   "cell_type": "code",
   "execution_count": 67,
   "metadata": {},
   "outputs": [],
   "source": [
    "RFR_FI['index'] = RFR_FI['index'].apply(lambda x: re.sub('_\\d{1,3}','',x)).copy()"
   ]
  },
  {
   "cell_type": "code",
   "execution_count": 72,
   "metadata": {},
   "outputs": [],
   "source": [
    "RFR_FI = RFR_FI.groupby('index', as_index=False).sum()"
   ]
  },
  {
   "cell_type": "code",
   "execution_count": 73,
   "metadata": {},
   "outputs": [
    {
     "data": {
      "text/html": [
       "<div>\n",
       "<style scoped>\n",
       "    .dataframe tbody tr th:only-of-type {\n",
       "        vertical-align: middle;\n",
       "    }\n",
       "\n",
       "    .dataframe tbody tr th {\n",
       "        vertical-align: top;\n",
       "    }\n",
       "\n",
       "    .dataframe thead th {\n",
       "        text-align: right;\n",
       "    }\n",
       "</style>\n",
       "<table border=\"1\" class=\"dataframe\">\n",
       "  <thead>\n",
       "    <tr style=\"text-align: right;\">\n",
       "      <th></th>\n",
       "      <th>index</th>\n",
       "      <th>importance</th>\n",
       "    </tr>\n",
       "  </thead>\n",
       "  <tbody>\n",
       "    <tr>\n",
       "      <td>5</td>\n",
       "      <td>CENTERCODE</td>\n",
       "      <td>0.082840</td>\n",
       "    </tr>\n",
       "    <tr>\n",
       "      <td>21</td>\n",
       "      <td>PARTIALNEPHROINDICATION</td>\n",
       "      <td>0.049202</td>\n",
       "    </tr>\n",
       "    <tr>\n",
       "      <td>4</td>\n",
       "      <td>BMI</td>\n",
       "      <td>0.042568</td>\n",
       "    </tr>\n",
       "    <tr>\n",
       "      <td>17</td>\n",
       "      <td>MULTIFOCALITY</td>\n",
       "      <td>0.042535</td>\n",
       "    </tr>\n",
       "    <tr>\n",
       "      <td>9</td>\n",
       "      <td>CN</td>\n",
       "      <td>0.042377</td>\n",
       "    </tr>\n",
       "    <tr>\n",
       "      <td>25</td>\n",
       "      <td>PREOPHT</td>\n",
       "      <td>0.042348</td>\n",
       "    </tr>\n",
       "    <tr>\n",
       "      <td>26</td>\n",
       "      <td>PREOPWBC</td>\n",
       "      <td>0.041051</td>\n",
       "    </tr>\n",
       "    <tr>\n",
       "      <td>33</td>\n",
       "      <td>SIDEOFTUMOR</td>\n",
       "      <td>0.036548</td>\n",
       "    </tr>\n",
       "    <tr>\n",
       "      <td>0</td>\n",
       "      <td>AGEATSURGERY</td>\n",
       "      <td>0.035772</td>\n",
       "    </tr>\n",
       "    <tr>\n",
       "      <td>23</td>\n",
       "      <td>PREOPCREAT</td>\n",
       "      <td>0.035614</td>\n",
       "    </tr>\n",
       "    <tr>\n",
       "      <td>8</td>\n",
       "      <td>CLINICALSIZEmm</td>\n",
       "      <td>0.035382</td>\n",
       "    </tr>\n",
       "    <tr>\n",
       "      <td>24</td>\n",
       "      <td>PREOPHB</td>\n",
       "      <td>0.035225</td>\n",
       "    </tr>\n",
       "    <tr>\n",
       "      <td>11</td>\n",
       "      <td>EDUCATION</td>\n",
       "      <td>0.034643</td>\n",
       "    </tr>\n",
       "    <tr>\n",
       "      <td>3</td>\n",
       "      <td>BILATERALITYOFTUMOR</td>\n",
       "      <td>0.031012</td>\n",
       "    </tr>\n",
       "    <tr>\n",
       "      <td>1</td>\n",
       "      <td>ANTERIORORPOSTERIOR</td>\n",
       "      <td>0.028373</td>\n",
       "    </tr>\n",
       "    <tr>\n",
       "      <td>20</td>\n",
       "      <td>PADUARISK</td>\n",
       "      <td>0.027918</td>\n",
       "    </tr>\n",
       "    <tr>\n",
       "      <td>28</td>\n",
       "      <td>RACE</td>\n",
       "      <td>0.027579</td>\n",
       "    </tr>\n",
       "    <tr>\n",
       "      <td>30</td>\n",
       "      <td>RENALSINUS</td>\n",
       "      <td>0.026721</td>\n",
       "    </tr>\n",
       "    <tr>\n",
       "      <td>34</td>\n",
       "      <td>SOLITARYKIDNEY</td>\n",
       "      <td>0.026111</td>\n",
       "    </tr>\n",
       "    <tr>\n",
       "      <td>12</td>\n",
       "      <td>EXOPHYTICRATE</td>\n",
       "      <td>0.025926</td>\n",
       "    </tr>\n",
       "    <tr>\n",
       "      <td>27</td>\n",
       "      <td>R.E.N.A.L.NEPHRORISKSTRATIFICATION</td>\n",
       "      <td>0.022191</td>\n",
       "    </tr>\n",
       "    <tr>\n",
       "      <td>36</td>\n",
       "      <td>TUMORlOCATION</td>\n",
       "      <td>0.020764</td>\n",
       "    </tr>\n",
       "    <tr>\n",
       "      <td>13</td>\n",
       "      <td>FACE</td>\n",
       "      <td>0.019852</td>\n",
       "    </tr>\n",
       "    <tr>\n",
       "      <td>2</td>\n",
       "      <td>ASASCORE</td>\n",
       "      <td>0.019395</td>\n",
       "    </tr>\n",
       "    <tr>\n",
       "      <td>15</td>\n",
       "      <td>LOCATIONTOPOLARLINE</td>\n",
       "      <td>0.018898</td>\n",
       "    </tr>\n",
       "    <tr>\n",
       "      <td>18</td>\n",
       "      <td>NEARNESSOFTUMOUR</td>\n",
       "      <td>0.015877</td>\n",
       "    </tr>\n",
       "    <tr>\n",
       "      <td>16</td>\n",
       "      <td>MARITALSTATUS</td>\n",
       "      <td>0.015831</td>\n",
       "    </tr>\n",
       "    <tr>\n",
       "      <td>35</td>\n",
       "      <td>SYMPTOMS</td>\n",
       "      <td>0.015828</td>\n",
       "    </tr>\n",
       "    <tr>\n",
       "      <td>6</td>\n",
       "      <td>CHARLSONSCORE</td>\n",
       "      <td>0.015813</td>\n",
       "    </tr>\n",
       "    <tr>\n",
       "      <td>31</td>\n",
       "      <td>RIMLOCATION</td>\n",
       "      <td>0.015523</td>\n",
       "    </tr>\n",
       "    <tr>\n",
       "      <td>22</td>\n",
       "      <td>POLARLOCATION</td>\n",
       "      <td>0.013418</td>\n",
       "    </tr>\n",
       "    <tr>\n",
       "      <td>14</td>\n",
       "      <td>GENDER</td>\n",
       "      <td>0.013195</td>\n",
       "    </tr>\n",
       "    <tr>\n",
       "      <td>10</td>\n",
       "      <td>CT</td>\n",
       "      <td>0.011243</td>\n",
       "    </tr>\n",
       "    <tr>\n",
       "      <td>32</td>\n",
       "      <td>SIDEOFSURGERY</td>\n",
       "      <td>0.011122</td>\n",
       "    </tr>\n",
       "    <tr>\n",
       "      <td>7</td>\n",
       "      <td>CLINICALSIZEGROUP</td>\n",
       "      <td>0.009356</td>\n",
       "    </tr>\n",
       "    <tr>\n",
       "      <td>29</td>\n",
       "      <td>RADIUSmaximaldiameterincm</td>\n",
       "      <td>0.007420</td>\n",
       "    </tr>\n",
       "    <tr>\n",
       "      <td>19</td>\n",
       "      <td>NOOFLESIONS</td>\n",
       "      <td>0.004529</td>\n",
       "    </tr>\n",
       "  </tbody>\n",
       "</table>\n",
       "</div>"
      ],
      "text/plain": [
       "                                 index  importance\n",
       "5                           CENTERCODE    0.082840\n",
       "21             PARTIALNEPHROINDICATION    0.049202\n",
       "4                                  BMI    0.042568\n",
       "17                       MULTIFOCALITY    0.042535\n",
       "9                                   CN    0.042377\n",
       "25                             PREOPHT    0.042348\n",
       "26                            PREOPWBC    0.041051\n",
       "33                         SIDEOFTUMOR    0.036548\n",
       "0                         AGEATSURGERY    0.035772\n",
       "23                          PREOPCREAT    0.035614\n",
       "8                       CLINICALSIZEmm    0.035382\n",
       "24                             PREOPHB    0.035225\n",
       "11                           EDUCATION    0.034643\n",
       "3                  BILATERALITYOFTUMOR    0.031012\n",
       "1                  ANTERIORORPOSTERIOR    0.028373\n",
       "20                           PADUARISK    0.027918\n",
       "28                                RACE    0.027579\n",
       "30                          RENALSINUS    0.026721\n",
       "34                      SOLITARYKIDNEY    0.026111\n",
       "12                       EXOPHYTICRATE    0.025926\n",
       "27  R.E.N.A.L.NEPHRORISKSTRATIFICATION    0.022191\n",
       "36                       TUMORlOCATION    0.020764\n",
       "13                                FACE    0.019852\n",
       "2                             ASASCORE    0.019395\n",
       "15                 LOCATIONTOPOLARLINE    0.018898\n",
       "18                    NEARNESSOFTUMOUR    0.015877\n",
       "16                       MARITALSTATUS    0.015831\n",
       "35                            SYMPTOMS    0.015828\n",
       "6                        CHARLSONSCORE    0.015813\n",
       "31                         RIMLOCATION    0.015523\n",
       "22                       POLARLOCATION    0.013418\n",
       "14                              GENDER    0.013195\n",
       "10                                  CT    0.011243\n",
       "32                       SIDEOFSURGERY    0.011122\n",
       "7                    CLINICALSIZEGROUP    0.009356\n",
       "29           RADIUSmaximaldiameterincm    0.007420\n",
       "19                         NOOFLESIONS    0.004529"
      ]
     },
     "execution_count": 73,
     "metadata": {},
     "output_type": "execute_result"
    }
   ],
   "source": [
    "RFR_FI.sort_values('importance', ascending=False)"
   ]
  },
  {
   "cell_type": "code",
   "execution_count": null,
   "metadata": {},
   "outputs": [],
   "source": []
  }
 ],
 "metadata": {
  "kernelspec": {
   "display_name": "Python 3",
   "language": "python",
   "name": "python3"
  },
  "language_info": {
   "codemirror_mode": {
    "name": "ipython",
    "version": 3
   },
   "file_extension": ".py",
   "mimetype": "text/x-python",
   "name": "python",
   "nbconvert_exporter": "python",
   "pygments_lexer": "ipython3",
   "version": "3.7.4"
  }
 },
 "nbformat": 4,
 "nbformat_minor": 2
}
