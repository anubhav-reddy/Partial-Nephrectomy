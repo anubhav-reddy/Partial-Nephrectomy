{
 "cells": [
  {
   "cell_type": "code",
   "execution_count": 4,
   "metadata": {},
   "outputs": [],
   "source": [
    "import pandas as pd\n",
    "import pickle\n",
    "import sklearn\n",
    "def event_handler(test):\n",
    "    test_df = pd.DataFrame(data=test,index=[0])\n",
    "    model = pickle.load(open(\"H:\\RediMinds\\DRMahen/model_intra_op.pkl\",\"rb\"))\n",
    "    prediction = model.predict_proba(test_df)\n",
    "    prob_no_intra_complications = prediction[0][0]\n",
    "    prob_intra_complications = prediction[0][1]\n",
    "    return prob_no_intra_complications, prob_intra_complications"
   ]
  },
  {
   "cell_type": "code",
   "execution_count": 73,
   "metadata": {},
   "outputs": [],
   "source": [
    "test = {\"PROC NAME\":0,\"GENDER\":1,\"SYMPTOMS\":1,\"SOLITARY KIDNEY\":1,\n",
    "        \"SIDE OF SURGERY\":3,\"FACE\":2,\"TUMOR LOCATION\":1,\"POLAR LOCATION\":1,\n",
    "        \"EXOPHYTIC RATE\":2,\"CLINICAL SIZE GROUP\":1,\"CT\":4,\"CN\":3,\"CM\":0,\n",
    "        \"R.E.N.A.L. NEPHRO RISK STRATIFICATION\":1,\"RADIUS (maximal diameter in cm)\":1,\n",
    "        \"EXOPHYTIC/ENDOPHYTIC PROPERTIES\":2,\"ANTERIOR OR POSTERIOR\":2,\"ASA SCORE\":2,\n",
    "        \"PARTIAL NEPHRO INDICATION\":1,\"ACCESS\":1,\"AGE AT SURGERY\":23,\"BMI\":34,\"CLINICAL SIZE\":2,\n",
    "        \"CHARLSON SCORE\":4,\"CHARLSON AGE-ADJUST SCORE\":4,\"PRE-OP HB\":4,\"PRE-OP HT\":4,\n",
    "        \"PRE-OP CREAT\":4,\"PRE-OP EGFR\":4,\"NO OF LESIONS\":4}"
   ]
  },
  {
   "cell_type": "code",
   "execution_count": 1,
   "metadata": {},
   "outputs": [],
   "source": [
    "test = {\"PROC NAME\":0,\"GENDER\":1,\"SYMPTOMS\":0,\"SOLITARY KIDNEY\":1,\"SIDE OF SURGERY\":3,\n",
    "        \"FACE\":2,\"TUMOR LOCATION\":3,\"POLAR LOCATION\":2,\"EXOPHYTIC RATE\":1,\"CLINICAL SIZE GROUP\":0,\n",
    "        \"CT\":2,\"CN\":3,\"CM\":1,\"R.E.N.A.L. NEPHRO RISK STRATIFICATION\":2,\"RADIUS (maximal diameter in cm)\":0,\n",
    "        \"EXOPHYTIC/ENDOPHYTIC PROPERTIES\":0,\"ANTERIOR OR POSTERIOR\":3,\"ASA SCORE\":1,\n",
    "        \"PARTIAL NEPHRO INDICATION\":0,\"ACCESS\":1,\"AGE AT SURGERY\":63,\"BMI\":26.26,\n",
    "        \"CLINICAL SIZE\":56,\"CHARLSON SCORE\":2,\"CHARLSON AGE-ADJUST SCORE\":5,\n",
    "        \"PRE-OP HB\":14.3,\"PRE-OP HT\":41.2,\"PRE-OP CREAT\":1.2,\"PRE-OP EGFR\":63.97,\"NO OF LESIONS\":1}"
   ]
  },
  {
   "cell_type": "code",
   "execution_count": 2,
   "metadata": {},
   "outputs": [],
   "source": [
    "def event_handler(test):\n",
    "    test = pd.DataFrame(data=test,index=[0])\n",
    "    model = pickle.load(open(\"H:\\RediMinds\\DRMahen/model_intra_op.pkl\",\"rb\"))\n",
    "    prediction = model.predict_proba(test_df)\n",
    "    prob_no_intra_complications = prediction[0][0]\n",
    "    prob_intra_complications = prediction[0][1]\n",
    "    return prob_no_intra_complications, prob_intra_complications"
   ]
  },
  {
   "cell_type": "code",
   "execution_count": 5,
   "metadata": {},
   "outputs": [
    {
     "data": {
      "text/plain": [
       "(0.6249073752120302, 0.3750926247879698)"
      ]
     },
     "execution_count": 5,
     "metadata": {},
     "output_type": "execute_result"
    }
   ],
   "source": [
    "event_handler(test)"
   ]
  },
  {
   "cell_type": "code",
   "execution_count": null,
   "metadata": {},
   "outputs": [],
   "source": [
    "print"
   ]
  }
 ],
 "metadata": {
  "kernelspec": {
   "display_name": "Python 3",
   "language": "python",
   "name": "python3"
  },
  "language_info": {
   "codemirror_mode": {
    "name": "ipython",
    "version": 3
   },
   "file_extension": ".py",
   "mimetype": "text/x-python",
   "name": "python",
   "nbconvert_exporter": "python",
   "pygments_lexer": "ipython3",
   "version": "3.6.6"
  }
 },
 "nbformat": 4,
 "nbformat_minor": 2
}
