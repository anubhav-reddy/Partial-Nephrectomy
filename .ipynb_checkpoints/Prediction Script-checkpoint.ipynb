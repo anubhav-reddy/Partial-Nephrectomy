{
 "cells": [
  {
   "cell_type": "code",
   "execution_count": 28,
   "metadata": {},
   "outputs": [],
   "source": [
    "import pandas as pd"
   ]
  },
  {
   "cell_type": "code",
   "execution_count": 30,
   "metadata": {},
   "outputs": [],
   "source": [
    "test = {\"PROC NAME\":0,\"GENDER\":1,\"SYMPTOMS\":1,\"SOLITARY KIDNEY\":1,\n",
    "        \"SIDE OF SURGERY\":3,\"FACE\":2,\"TUMOR LOCATION\":1,\"POLAR LOCATION\":1,\n",
    "        \"EXOPHYTIC RATE\":2,\"CLINICAL SIZE GROUP\":1,\"CT\":4,\"CN\":3,\"CM\":0,\n",
    "        \"R.E.N.A.L. NEPHRO RISK STRATIFICATION\":1,\"RADIUS (maximal diameter in cm)\":1,\n",
    "        \"EXOPHYTIC/ENDOPHYTIC PROPERTIES\":2,\"ANTERIOR OR POSTERIOR\":2,\"ASA SCORE\":2,\n",
    "        \"PARTIAL NEPHRO INDICATION\":1,\"ACCESS\":1,\"AGE AT SURGERY\":23,\"BMI\":34,\"CLINICAL SIZE\":2,\n",
    "        \"CHARLSON SCORE\":4,\"CHARLSON AGE-ADJUST SCORE\":4,\"PRE-OP HB\":4,\"PRE-OP HT\":4,\n",
    "        \"PRE-OP CREAT\":4,\"PRE-OP EGFR\":4,\"NO OF LESIONS\":4}"
   ]
  },
  {
   "cell_type": "code",
   "execution_count": 31,
   "metadata": {},
   "outputs": [],
   "source": [
    "test_df = pd.DataFrame(data=test,index=[0])"
   ]
  },
  {
   "cell_type": "code",
   "execution_count": 32,
   "metadata": {},
   "outputs": [],
   "source": [
    "import pickle\n",
    "#loading a model from a file called model.pkl\n",
    "model = pickle.load(open(\"H:\\RediMinds\\DRMahen/model_intra_op.pkl\",\"rb\"))"
   ]
  },
  {
   "cell_type": "code",
   "execution_count": 33,
   "metadata": {},
   "outputs": [],
   "source": [
    "prediction = model.predict_proba(test_df)"
   ]
  },
  {
   "cell_type": "code",
   "execution_count": 35,
   "metadata": {},
   "outputs": [],
   "source": [
    "prob_no_intra_complications = prediction[0][0]\n",
    "prob_intra_complications = prediction[0][1]"
   ]
  }
 ],
 "metadata": {
  "kernelspec": {
   "display_name": "Python 3",
   "language": "python",
   "name": "python3"
  },
  "language_info": {
   "codemirror_mode": {
    "name": "ipython",
    "version": 3
   },
   "file_extension": ".py",
   "mimetype": "text/x-python",
   "name": "python",
   "nbconvert_exporter": "python",
   "pygments_lexer": "ipython3",
   "version": "3.6.6"
  }
 },
 "nbformat": 4,
 "nbformat_minor": 2
}
