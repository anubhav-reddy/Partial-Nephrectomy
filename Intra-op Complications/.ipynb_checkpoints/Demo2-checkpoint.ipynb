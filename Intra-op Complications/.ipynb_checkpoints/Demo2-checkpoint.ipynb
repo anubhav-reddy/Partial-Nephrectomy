{
 "cells": [
  {
   "cell_type": "code",
   "execution_count": 4,
   "metadata": {},
   "outputs": [
    {
     "name": "stderr",
     "output_type": "stream",
     "text": [
      "H:\\Anaconda3\\lib\\site-packages\\ipykernel_launcher.py:27: DataConversionWarning: Data with input dtype int64, float64 were all converted to float64 by StandardScaler.\n"
     ]
    },
    {
     "data": {
      "text/plain": [
       "0.67"
      ]
     },
     "execution_count": 4,
     "metadata": {},
     "output_type": "execute_result"
    }
   ],
   "source": [
    "import pandas as pd\n",
    "import pickle\n",
    "import sklearn\n",
    "df = pd.read_csv(\"results_shortlist.csv\")\n",
    "def event_handler(df):\n",
    "    \n",
    "    df1 = df[0:1].copy()\n",
    "    df1 = df1[['PROC NAME','GENDER','AGE AT SURGERY','BMI','CLINICAL SIZE (mm)',\n",
    "     'SYMPTOMS','SOLITARY KIDNEY','SIDE OF SURGERY','FACE','TUMOR lOCATION','PRE-OP HB','PRE-OP HT','PRE-OP CREAT','PRE-OP EGFR',\n",
    "     'POLAR LOCATION','EXOPHYTIC RATE','CLINICAL SIZE GROUP','CT','CN','CM','RADIUS (maximal diameter in cm)',\n",
    "     'EXOPHYTIC/ENDOPHYTIC PROPERTIES','ANTERIOR OR POSTERIOR','ASA SCORE','NO OF LESIONS','ACCESS']].copy()\n",
    "\n",
    "    category_list = ['PROC NAME','GENDER','SYMPTOMS','SOLITARY KIDNEY','SIDE OF SURGERY','FACE','TUMOR lOCATION','POLAR LOCATION',\n",
    "     'EXOPHYTIC RATE','CLINICAL SIZE GROUP','CT','CN','CM','RADIUS (maximal diameter in cm)','EXOPHYTIC/ENDOPHYTIC PROPERTIES',\n",
    "     'ANTERIOR OR POSTERIOR','ASA SCORE','ACCESS']\n",
    "\n",
    "    for i in category_list:\n",
    "        df1[i] = df1[i].astype('category')\n",
    "\n",
    "    sample = pd.read_csv('column_list.csv')\n",
    "\n",
    "    test = pd.concat([sample,pd.get_dummies(df1)],sort = False).fillna(0)\n",
    "\n",
    "    #loading a model from a file called model.pkl\n",
    "    stdc = pickle.load(open(\"stdc.pkl\",\"rb\"))\n",
    "\n",
    "    test = stdc.transform(test)\n",
    "\n",
    "    #loading a model from a file called model.pkl\n",
    "    transformer_kpca = pickle.load(open(\"transformer_kpca.pkl\",\"rb\"))\n",
    "\n",
    "    test = transformer_kpca.transform(test)\n",
    "\n",
    "    #loading a model from a file called model.pkl\n",
    "    model = pickle.load(open(\"logistic_intra_op.pkl\",\"rb\"))\n",
    "\n",
    "    results = model.predict_proba(test)\n",
    "    prob_no_complications,prob_complications = round(results[0][0],2),round(results[0][1],2)\n",
    "    return prob_complications\n",
    "\n",
    "event_handler(df)"
   ]
  }
 ],
 "metadata": {
  "kernelspec": {
   "display_name": "Python 3",
   "language": "python",
   "name": "python3"
  },
  "language_info": {
   "codemirror_mode": {
    "name": "ipython",
    "version": 3
   },
   "file_extension": ".py",
   "mimetype": "text/x-python",
   "name": "python",
   "nbconvert_exporter": "python",
   "pygments_lexer": "ipython3",
   "version": "3.6.6"
  }
 },
 "nbformat": 4,
 "nbformat_minor": 2
}
