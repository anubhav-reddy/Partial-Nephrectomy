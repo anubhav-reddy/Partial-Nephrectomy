{
 "cells": [
  {
   "cell_type": "code",
   "execution_count": 585,
   "metadata": {},
   "outputs": [],
   "source": [
    "# import packages\n",
    "import pandas as pd\n",
    "import numpy as np\n",
    "import pickle\n",
    "from sklearn import metrics\n",
    "import tensorflow as tf\n",
    "from tensorflow import keras\n",
    "from sklearn.pipeline import Pipeline\n",
    "import os\n",
    "os.environ['CUDA_VISIBLE_DEVICES'] = '-1'"
   ]
  },
  {
   "cell_type": "code",
   "execution_count": 586,
   "metadata": {},
   "outputs": [],
   "source": [
    "# load test data\n",
    "input_path = 'H:\\RediMinds\\VCQI'\n",
    "#train = pd.read_csv(input_path+\"\\VCQI_clean_train.csv\")\n",
    "test = pd.read_csv(input_path+\"\\VCQI_clean_test.csv\")"
   ]
  },
  {
   "cell_type": "code",
   "execution_count": 587,
   "metadata": {},
   "outputs": [],
   "source": [
    "# Generate prediction for the Random Forest Model\n",
    "with open (input_path+'\\cat_col', 'rb') as fp:\n",
    "    cat_col = pickle.load(fp)\n",
    "\n",
    "model_path = 'output/models/'\n",
    "from joblib import load\n",
    "encoder = load(model_path+'OHE.joblib')"
   ]
  },
  {
   "cell_type": "code",
   "execution_count": 588,
   "metadata": {},
   "outputs": [],
   "source": [
    "x_test = test.drop(labels='INTRA_OP_COMPLICATIONS', axis = 'columns').copy()\n",
    "y_test = test['INTRA_OP_COMPLICATIONS'].copy() "
   ]
  },
  {
   "cell_type": "code",
   "execution_count": 589,
   "metadata": {},
   "outputs": [],
   "source": [
    "# Create dummy variables\n",
    "one_hot_encoded_array = encoder.transform(x_test[cat_col]).toarray()\n",
    "column_name = encoder.get_feature_names(cat_col)\n",
    "x_test_OHE =  pd.DataFrame(one_hot_encoded_array, columns= column_name)\n",
    "x_test = x_test.merge(x_test_OHE, how = 'left', left_index = True, right_index =True) # create dummy variables\n",
    "x_test = x_test.drop(labels = cat_col, axis = 'columns') # drop original variables"
   ]
  },
  {
   "cell_type": "markdown",
   "metadata": {},
   "source": [
    "### Load Models"
   ]
  },
  {
   "cell_type": "code",
   "execution_count": 590,
   "metadata": {},
   "outputs": [],
   "source": [
    "model_path = 'output/models/'"
   ]
  },
  {
   "cell_type": "code",
   "execution_count": 591,
   "metadata": {},
   "outputs": [],
   "source": [
    "# import Random Forest Classifer\n",
    "from joblib import load\n",
    "RFR = load(model_path+'RFR.joblib')"
   ]
  },
  {
   "cell_type": "code",
   "execution_count": 592,
   "metadata": {},
   "outputs": [],
   "source": [
    "# Generate prediction for the Random Forest Model\n",
    "results_RFR = pd.DataFrame(RFR.predict(x_test), columns=['pred_label'])\n",
    "results_RFR['pred_prob'] =  pd.DataFrame(RFR.predict_proba(x_test))[1]\n",
    "results_RFR['true_label'] = np.array(y_test)"
   ]
  },
  {
   "cell_type": "code",
   "execution_count": 593,
   "metadata": {},
   "outputs": [
    {
     "data": {
      "text/plain": [
       "0.5878218789088239"
      ]
     },
     "execution_count": 593,
     "metadata": {},
     "output_type": "execute_result"
    }
   ],
   "source": [
    "metrics.average_precision_score(results_RFR['true_label'], results_RFR['pred_prob'])"
   ]
  },
  {
   "cell_type": "code",
   "execution_count": 594,
   "metadata": {},
   "outputs": [
    {
     "data": {
      "text/plain": [
       "count    507.000000\n",
       "mean       0.089702\n",
       "std        0.106310\n",
       "min        0.000000\n",
       "25%        0.029015\n",
       "50%        0.063834\n",
       "75%        0.104336\n",
       "max        0.749533\n",
       "Name: pred_prob, dtype: float64"
      ]
     },
     "execution_count": 594,
     "metadata": {},
     "output_type": "execute_result"
    }
   ],
   "source": [
    "results_RFR['pred_prob'].describe()"
   ]
  },
  {
   "cell_type": "code",
   "execution_count": 596,
   "metadata": {},
   "outputs": [
    {
     "data": {
      "text/plain": [
       "10"
      ]
     },
     "execution_count": 596,
     "metadata": {},
     "output_type": "execute_result"
    }
   ],
   "source": [
    "results_RFR['pred_label'].sum()"
   ]
  },
  {
   "cell_type": "markdown",
   "metadata": {},
   "source": [
    "### Test Script"
   ]
  },
  {
   "cell_type": "code",
   "execution_count": 683,
   "metadata": {},
   "outputs": [],
   "source": [
    "import pandas as pd\n",
    "import numpy as np"
   ]
  },
  {
   "cell_type": "code",
   "execution_count": 684,
   "metadata": {},
   "outputs": [],
   "source": [
    "list_columns = [\n",
    "    'CENTERCODE',\n",
    "    'GENDER',\n",
    "    'AGEATSURGERY',\n",
    "    'MARITALSTATUS',\n",
    "    'RACE',\n",
    "    'EDUCATION',\n",
    "    'BMI',\n",
    "    'CLINICALSIZEmm',\n",
    "    'CHARLSONSCORE',\n",
    "    'SYMPTOMS',\n",
    "    'SOLITARYKIDNEY',\n",
    "    'BILATERALITYOFTUMOR',\n",
    "    'SIDEOFTUMOR',\n",
    "    'SIDEOFSURGERY',\n",
    "    'FACE',\n",
    "    'TUMORlOCATION',\n",
    "    'PREOPHB',\n",
    "    'PREOPHT',\n",
    "    'PREOPWBC',\n",
    "    'PREOPCREAT',\n",
    "    'PADUARISK',\n",
    "    'POLARLOCATION',\n",
    "    'RIMLOCATION',\n",
    "    'RENALSINUS',\n",
    "    'EXOPHYTICRATE',\n",
    "    'CLINICALSIZEGROUP',\n",
    "    'CT',\n",
    "    'CN',\n",
    "    'R.E.N.A.L.NEPHRORISKSTRATIFICATION',\n",
    "    'RADIUSmaximaldiameterincm',\n",
    "    'NEARNESSOFTUMOUR',\n",
    "    'ANTERIORORPOSTERIOR',\n",
    "    'LOCATIONTOPOLARLINE',\n",
    "    'ASASCORE',\n",
    "    'PARTIALNEPHROINDICATION',\n",
    "    'MULTIFOCALITY',\n",
    "    'NOOFLESIONS',\n",
    "    'PATIENTNUMBER'\n",
    "               ]"
   ]
  },
  {
   "cell_type": "code",
   "execution_count": 685,
   "metadata": {},
   "outputs": [],
   "source": [
    "# Import prospective dataset\n",
    "df= pd.read_excel('input/test_data.xlsx', \n",
    "                  sheet_name='test_data', \n",
    "                  usecols=list_columns)"
   ]
  },
  {
   "cell_type": "code",
   "execution_count": 686,
   "metadata": {},
   "outputs": [
    {
     "data": {
      "text/html": [
       "<div>\n",
       "<style scoped>\n",
       "    .dataframe tbody tr th:only-of-type {\n",
       "        vertical-align: middle;\n",
       "    }\n",
       "\n",
       "    .dataframe tbody tr th {\n",
       "        vertical-align: top;\n",
       "    }\n",
       "\n",
       "    .dataframe thead th {\n",
       "        text-align: right;\n",
       "    }\n",
       "</style>\n",
       "<table border=\"1\" class=\"dataframe\">\n",
       "  <thead>\n",
       "    <tr style=\"text-align: right;\">\n",
       "      <th></th>\n",
       "      <th>PATIENTNUMBER</th>\n",
       "      <th>CENTERCODE</th>\n",
       "      <th>GENDER</th>\n",
       "      <th>AGEATSURGERY</th>\n",
       "      <th>MARITALSTATUS</th>\n",
       "      <th>RACE</th>\n",
       "      <th>EDUCATION</th>\n",
       "      <th>BMI</th>\n",
       "      <th>CLINICALSIZEmm</th>\n",
       "      <th>CHARLSONSCORE</th>\n",
       "      <th>...</th>\n",
       "      <th>CN</th>\n",
       "      <th>R.E.N.A.L.NEPHRORISKSTRATIFICATION</th>\n",
       "      <th>RADIUSmaximaldiameterincm</th>\n",
       "      <th>NEARNESSOFTUMOUR</th>\n",
       "      <th>ANTERIORORPOSTERIOR</th>\n",
       "      <th>LOCATIONTOPOLARLINE</th>\n",
       "      <th>ASASCORE</th>\n",
       "      <th>PARTIALNEPHROINDICATION</th>\n",
       "      <th>MULTIFOCALITY</th>\n",
       "      <th>NOOFLESIONS</th>\n",
       "    </tr>\n",
       "  </thead>\n",
       "  <tbody>\n",
       "    <tr>\n",
       "      <td>0</td>\n",
       "      <td>22PAT000131</td>\n",
       "      <td>WGC7XYXZ</td>\n",
       "      <td>Male</td>\n",
       "      <td>58</td>\n",
       "      <td>Married</td>\n",
       "      <td>Mongoloid/Asian</td>\n",
       "      <td>Not Provided</td>\n",
       "      <td>23.18</td>\n",
       "      <td>44</td>\n",
       "      <td>0</td>\n",
       "      <td>...</td>\n",
       "      <td>N0</td>\n",
       "      <td>3(High Risk)</td>\n",
       "      <td>4 but &lt;7</td>\n",
       "      <td>=&lt;4</td>\n",
       "      <td>Anterior (a)</td>\n",
       "      <td>3</td>\n",
       "      <td>Category 1</td>\n",
       "      <td>Elective</td>\n",
       "      <td>No</td>\n",
       "      <td>1</td>\n",
       "    </tr>\n",
       "    <tr>\n",
       "      <td>1</td>\n",
       "      <td>15PAT000095</td>\n",
       "      <td>VNO3BPES</td>\n",
       "      <td>Female</td>\n",
       "      <td>23</td>\n",
       "      <td>Single</td>\n",
       "      <td>White/Caucasian</td>\n",
       "      <td>Not Provided</td>\n",
       "      <td>19.65</td>\n",
       "      <td>23</td>\n",
       "      <td>0</td>\n",
       "      <td>...</td>\n",
       "      <td>N0</td>\n",
       "      <td>3(High Risk)</td>\n",
       "      <td>=&lt;4</td>\n",
       "      <td>=&lt;4</td>\n",
       "      <td>Posterior (p)</td>\n",
       "      <td>3</td>\n",
       "      <td>Category 1</td>\n",
       "      <td>Elective</td>\n",
       "      <td>No</td>\n",
       "      <td>1</td>\n",
       "    </tr>\n",
       "  </tbody>\n",
       "</table>\n",
       "<p>2 rows × 38 columns</p>\n",
       "</div>"
      ],
      "text/plain": [
       "  PATIENTNUMBER CENTERCODE  GENDER  AGEATSURGERY MARITALSTATUS  \\\n",
       "0   22PAT000131   WGC7XYXZ    Male            58       Married   \n",
       "1   15PAT000095   VNO3BPES  Female            23        Single   \n",
       "\n",
       "              RACE     EDUCATION    BMI  CLINICALSIZEmm  CHARLSONSCORE  ...  \\\n",
       "0  Mongoloid/Asian  Not Provided  23.18              44              0  ...   \n",
       "1  White/Caucasian  Not Provided  19.65              23              0  ...   \n",
       "\n",
       "   CN R.E.N.A.L.NEPHRORISKSTRATIFICATION RADIUSmaximaldiameterincm  \\\n",
       "0  N0                       3(High Risk)                  4 but <7   \n",
       "1  N0                       3(High Risk)                       =<4   \n",
       "\n",
       "  NEARNESSOFTUMOUR ANTERIORORPOSTERIOR LOCATIONTOPOLARLINE    ASASCORE  \\\n",
       "0              =<4        Anterior (a)                   3  Category 1   \n",
       "1              =<4       Posterior (p)                   3  Category 1   \n",
       "\n",
       "   PARTIALNEPHROINDICATION  MULTIFOCALITY  NOOFLESIONS  \n",
       "0                 Elective             No            1  \n",
       "1                 Elective             No            1  \n",
       "\n",
       "[2 rows x 38 columns]"
      ]
     },
     "execution_count": 686,
     "metadata": {},
     "output_type": "execute_result"
    }
   ],
   "source": [
    "df.head()"
   ]
  },
  {
   "cell_type": "markdown",
   "metadata": {},
   "source": [
    "### Define numeric columns and replace encoded missing values with NaN"
   ]
  },
  {
   "cell_type": "code",
   "execution_count": 687,
   "metadata": {},
   "outputs": [],
   "source": [
    "# List of columns tobre converted to numeric\n",
    "numeric_col_list = ['AGEATSURGERY','BMI','CLINICALSIZEmm','CHARLSONSCORE','PREOPHB',\n",
    "                    'PREOPHT','PREOPWBC','PREOPCREAT','NOOFLESIONS'\n",
    "                   ] "
   ]
  },
  {
   "cell_type": "code",
   "execution_count": 688,
   "metadata": {},
   "outputs": [],
   "source": [
    "# Convert columns in numeric_col_list to numeric and invalid values are set NaN \n",
    "for col in numeric_col_list:\n",
    "    df[col]= pd.to_numeric(df[col], errors='coerce', downcast = 'float')"
   ]
  },
  {
   "cell_type": "code",
   "execution_count": 690,
   "metadata": {},
   "outputs": [],
   "source": [
    "#replace missing values such as 999 in the dataframe with NaN\n",
    "df = df.replace([99,999,9999,99999,999999,-99,-999,-9999,-99999,-999999],np.nan)"
   ]
  },
  {
   "cell_type": "code",
   "execution_count": 691,
   "metadata": {},
   "outputs": [],
   "source": [
    "# replacing negative numbers in the dataframe with nan as given variables cannot contain negative numbers\n",
    "for col in list(df.select_dtypes('float64')):\n",
    "    df[col] = df[col].apply(lambda x: np.nan if x<0 else x)"
   ]
  },
  {
   "cell_type": "code",
   "execution_count": 692,
   "metadata": {},
   "outputs": [],
   "source": [
    "# Correcting the units for erroroneously entered data\n",
    "def clean_WBC(x):\n",
    "    if len(str(x))<6:\n",
    "        x = x*1000\n",
    "    return x\n",
    "        \n",
    "\n",
    "# if the value of PRE-OP WBC value contains is less the 4 digits then multiply it by 1000\n",
    "df['PREOPWBC'] = df['PREOPWBC'].apply(lambda x: clean_WBC(x))\n"
   ]
  },
  {
   "cell_type": "code",
   "execution_count": 693,
   "metadata": {},
   "outputs": [],
   "source": [
    "# Correcting the units for erroroneously entered data for PREOPHB\n",
    "df['PREOPHB'] = df['PREOPHB'].apply(lambda x: x*100 if x<10 else x)\n",
    "\n",
    "# Correcting the units for erroroneously entered data for PREOPHT\n",
    "df['PREOPHT'] = df['PREOPHT'].apply(lambda x: x*100 if x<10 else x)"
   ]
  },
  {
   "cell_type": "code",
   "execution_count": 694,
   "metadata": {},
   "outputs": [],
   "source": [
    "# define categorical columns\n",
    "cat_col = []\n",
    "for i in list_columns:\n",
    "    if i not in numeric_col_list:\n",
    "        cat_col.append(i)\n",
    "cat_col.remove('PATIENTNUMBER')"
   ]
  },
  {
   "cell_type": "markdown",
   "metadata": {},
   "source": [
    "### Data Cleaning"
   ]
  },
  {
   "cell_type": "code",
   "execution_count": 695,
   "metadata": {},
   "outputs": [],
   "source": [
    "import json"
   ]
  },
  {
   "cell_type": "code",
   "execution_count": 696,
   "metadata": {},
   "outputs": [],
   "source": [
    "with open(model_path + \"outlier_dict.json\", \"r\") as read_file:\n",
    "    outlier_dict = json.load(read_file)"
   ]
  },
  {
   "cell_type": "code",
   "execution_count": 697,
   "metadata": {},
   "outputs": [
    {
     "data": {
      "text/plain": [
       "{'BMI': {'LL': 13.899999999999997, 'UL': 42.38},\n",
       " 'CLINICALSIZEmm': {'LL': -8.0, 'UL': 72.0},\n",
       " 'PREOPHB': {'LL': 9.75, 'UL': 18.15},\n",
       " 'PREOPHT': {'LL': 28.999999999999993, 'UL': 53.800000000000004},\n",
       " 'PREOPWBC': {'LL': 1525.0, 'UL': 12845.0},\n",
       " 'PREOPCREAT': {'LL': 0.29999999999999993, 'UL': 1.58},\n",
       " 'PREOPEGFR': {'LL': 22.104999999999983, 'UL': 136.50500000000002}}"
      ]
     },
     "execution_count": 697,
     "metadata": {},
     "output_type": "execute_result"
    }
   ],
   "source": [
    "outlier_dict"
   ]
  },
  {
   "cell_type": "code",
   "execution_count": 698,
   "metadata": {},
   "outputs": [
    {
     "data": {
      "text/plain": [
       "0     5100.0\n",
       "1    12100.0\n",
       "Name: PREOPWBC, dtype: float64"
      ]
     },
     "execution_count": 698,
     "metadata": {},
     "output_type": "execute_result"
    }
   ],
   "source": [
    "df['PREOPWBC']"
   ]
  },
  {
   "cell_type": "code",
   "execution_count": 699,
   "metadata": {},
   "outputs": [],
   "source": [
    "# Remove outlier data from numeric columns\n",
    "for i in numeric_col_list:\n",
    "    if i in outlier_dict:\n",
    "        LL = outlier_dict[i]['LL']\n",
    "        UL = outlier_dict[i]['UL']\n",
    "        df.drop(df.loc[(df[i]<=LL)|(df[i]>=UL),[i]].index, inplace=True)"
   ]
  },
  {
   "cell_type": "code",
   "execution_count": 700,
   "metadata": {},
   "outputs": [
    {
     "data": {
      "text/html": [
       "<div>\n",
       "<style scoped>\n",
       "    .dataframe tbody tr th:only-of-type {\n",
       "        vertical-align: middle;\n",
       "    }\n",
       "\n",
       "    .dataframe tbody tr th {\n",
       "        vertical-align: top;\n",
       "    }\n",
       "\n",
       "    .dataframe thead th {\n",
       "        text-align: right;\n",
       "    }\n",
       "</style>\n",
       "<table border=\"1\" class=\"dataframe\">\n",
       "  <thead>\n",
       "    <tr style=\"text-align: right;\">\n",
       "      <th></th>\n",
       "      <th>PATIENTNUMBER</th>\n",
       "      <th>CENTERCODE</th>\n",
       "      <th>GENDER</th>\n",
       "      <th>AGEATSURGERY</th>\n",
       "      <th>MARITALSTATUS</th>\n",
       "      <th>RACE</th>\n",
       "      <th>EDUCATION</th>\n",
       "      <th>BMI</th>\n",
       "      <th>CLINICALSIZEmm</th>\n",
       "      <th>CHARLSONSCORE</th>\n",
       "      <th>...</th>\n",
       "      <th>CN</th>\n",
       "      <th>R.E.N.A.L.NEPHRORISKSTRATIFICATION</th>\n",
       "      <th>RADIUSmaximaldiameterincm</th>\n",
       "      <th>NEARNESSOFTUMOUR</th>\n",
       "      <th>ANTERIORORPOSTERIOR</th>\n",
       "      <th>LOCATIONTOPOLARLINE</th>\n",
       "      <th>ASASCORE</th>\n",
       "      <th>PARTIALNEPHROINDICATION</th>\n",
       "      <th>MULTIFOCALITY</th>\n",
       "      <th>NOOFLESIONS</th>\n",
       "    </tr>\n",
       "  </thead>\n",
       "  <tbody>\n",
       "    <tr>\n",
       "      <td>0</td>\n",
       "      <td>22PAT000131</td>\n",
       "      <td>WGC7XYXZ</td>\n",
       "      <td>Male</td>\n",
       "      <td>58.0</td>\n",
       "      <td>Married</td>\n",
       "      <td>Mongoloid/Asian</td>\n",
       "      <td>Not Provided</td>\n",
       "      <td>23.18</td>\n",
       "      <td>44.0</td>\n",
       "      <td>0.0</td>\n",
       "      <td>...</td>\n",
       "      <td>N0</td>\n",
       "      <td>3(High Risk)</td>\n",
       "      <td>4 but &lt;7</td>\n",
       "      <td>=&lt;4</td>\n",
       "      <td>Anterior (a)</td>\n",
       "      <td>3</td>\n",
       "      <td>Category 1</td>\n",
       "      <td>Elective</td>\n",
       "      <td>No</td>\n",
       "      <td>1.0</td>\n",
       "    </tr>\n",
       "    <tr>\n",
       "      <td>1</td>\n",
       "      <td>15PAT000095</td>\n",
       "      <td>VNO3BPES</td>\n",
       "      <td>Female</td>\n",
       "      <td>23.0</td>\n",
       "      <td>Single</td>\n",
       "      <td>White/Caucasian</td>\n",
       "      <td>Not Provided</td>\n",
       "      <td>19.65</td>\n",
       "      <td>23.0</td>\n",
       "      <td>0.0</td>\n",
       "      <td>...</td>\n",
       "      <td>N0</td>\n",
       "      <td>3(High Risk)</td>\n",
       "      <td>=&lt;4</td>\n",
       "      <td>=&lt;4</td>\n",
       "      <td>Posterior (p)</td>\n",
       "      <td>3</td>\n",
       "      <td>Category 1</td>\n",
       "      <td>Elective</td>\n",
       "      <td>No</td>\n",
       "      <td>1.0</td>\n",
       "    </tr>\n",
       "  </tbody>\n",
       "</table>\n",
       "<p>2 rows × 38 columns</p>\n",
       "</div>"
      ],
      "text/plain": [
       "  PATIENTNUMBER CENTERCODE  GENDER  AGEATSURGERY MARITALSTATUS  \\\n",
       "0   22PAT000131   WGC7XYXZ    Male          58.0       Married   \n",
       "1   15PAT000095   VNO3BPES  Female          23.0        Single   \n",
       "\n",
       "              RACE     EDUCATION    BMI  CLINICALSIZEmm  CHARLSONSCORE  ...  \\\n",
       "0  Mongoloid/Asian  Not Provided  23.18            44.0            0.0  ...   \n",
       "1  White/Caucasian  Not Provided  19.65            23.0            0.0  ...   \n",
       "\n",
       "   CN R.E.N.A.L.NEPHRORISKSTRATIFICATION RADIUSmaximaldiameterincm  \\\n",
       "0  N0                       3(High Risk)                  4 but <7   \n",
       "1  N0                       3(High Risk)                       =<4   \n",
       "\n",
       "  NEARNESSOFTUMOUR ANTERIORORPOSTERIOR LOCATIONTOPOLARLINE    ASASCORE  \\\n",
       "0              =<4        Anterior (a)                   3  Category 1   \n",
       "1              =<4       Posterior (p)                   3  Category 1   \n",
       "\n",
       "   PARTIALNEPHROINDICATION  MULTIFOCALITY  NOOFLESIONS  \n",
       "0                 Elective             No          1.0  \n",
       "1                 Elective             No          1.0  \n",
       "\n",
       "[2 rows x 38 columns]"
      ]
     },
     "execution_count": 700,
     "metadata": {},
     "output_type": "execute_result"
    }
   ],
   "source": [
    "df"
   ]
  },
  {
   "cell_type": "code",
   "execution_count": 702,
   "metadata": {},
   "outputs": [],
   "source": [
    "# Calculate number missing values per row\n",
    "df.reset_index(inplace=True, drop=True)\n",
    "missing = {}\n",
    "\n",
    "for i in range(len(df)):\n",
    "    miss_cnt = 0\n",
    "    for col in df.columns:\n",
    "        if pd.isna(df[col][i]) == True:\n",
    "            miss_cnt = miss_cnt+1\n",
    "    df.loc[i,'Missing'] = miss_cnt"
   ]
  },
  {
   "cell_type": "code",
   "execution_count": 704,
   "metadata": {
    "scrolled": true
   },
   "outputs": [
    {
     "name": "stdout",
     "output_type": "stream",
     "text": [
      "Total Records 2\n",
      "Records with >=30% missing data 2\n",
      "Records to be dropped 0\n"
     ]
    }
   ],
   "source": [
    "# calculate number of records with over 30% missing data\n",
    "print(\"Total Records {}\".format(len(df)))\n",
    "print(\"Records with >=30% missing data {}\".format(sum(df['Missing']<= round((len(df.columns))*.30))))\n",
    "print(\"Records to be dropped {}\".format(len(df) - sum(df['Missing']<= round((len(df.columns))*.30))))"
   ]
  },
  {
   "cell_type": "code",
   "execution_count": 705,
   "metadata": {},
   "outputs": [],
   "source": [
    "#removing patients with more than 75% missing data\n",
    "df = df[df['Missing']<= round((len(df.columns))*.30) ].copy()"
   ]
  },
  {
   "cell_type": "code",
   "execution_count": 706,
   "metadata": {},
   "outputs": [],
   "source": [
    "# remove column 'Missing'\n",
    "df.drop(labels=['Missing'], axis = 'columns',inplace=True)"
   ]
  },
  {
   "cell_type": "code",
   "execution_count": 707,
   "metadata": {},
   "outputs": [],
   "source": [
    "# Replcaing missing values in categorical column with NA\n",
    "for k in cat_col:\n",
    "    if k in df.columns:\n",
    "        df[k].fillna('NA',inplace = True)"
   ]
  },
  {
   "cell_type": "code",
   "execution_count": 712,
   "metadata": {},
   "outputs": [],
   "source": [
    "# Import dict with mean value for numeric columns\n",
    "with open(model_path + \"numeric_col_mean_dict.json\", \"r\") as read_file:\n",
    "    numeric_col_mean_dict = json.load(read_file)"
   ]
  },
  {
   "cell_type": "code",
   "execution_count": 713,
   "metadata": {},
   "outputs": [],
   "source": [
    "# Replacing missing values in numerical columns with their respective mean \n",
    "for k in numeric_col_list:\n",
    "    if k in df.columns:\n",
    "        df[k].fillna(numeric_col_mean_dict[k], inplace = True)"
   ]
  },
  {
   "cell_type": "code",
   "execution_count": 714,
   "metadata": {},
   "outputs": [],
   "source": [
    "from joblib import load\n",
    "le_dict = load(model_path+'Label_enc_dict.joblib')"
   ]
  },
  {
   "cell_type": "code",
   "execution_count": 715,
   "metadata": {},
   "outputs": [],
   "source": [
    "# Convert all cateogir\n",
    "for i in cat_col:\n",
    "    df[i] = df[i].apply(str)"
   ]
  },
  {
   "cell_type": "code",
   "execution_count": 716,
   "metadata": {},
   "outputs": [],
   "source": [
    "# check for unknow labels and map unknown labels to 'unknown_label'\n",
    "for i in le_dict:\n",
    "    if i in df.columns:\n",
    "        df[i].map(lambda x: x if x in le_dict[i].classes_ else 'unknown_label')"
   ]
  },
  {
   "cell_type": "code",
   "execution_count": 717,
   "metadata": {},
   "outputs": [],
   "source": [
    "df_codes = df.copy()"
   ]
  },
  {
   "cell_type": "code",
   "execution_count": 718,
   "metadata": {
    "scrolled": true
   },
   "outputs": [
    {
     "ename": "ValueError",
     "evalue": "y contains previously unseen labels: '3'",
     "output_type": "error",
     "traceback": [
      "\u001b[1;31m---------------------------------------------------------------------------\u001b[0m",
      "\u001b[1;31mKeyError\u001b[0m                                  Traceback (most recent call last)",
      "\u001b[1;32m~\\Anaconda3\\envs\\Tensorflow\\lib\\site-packages\\sklearn\\preprocessing\\label.py\u001b[0m in \u001b[0;36m_encode_python\u001b[1;34m(values, uniques, encode)\u001b[0m\n\u001b[0;32m     63\u001b[0m         \u001b[1;32mtry\u001b[0m\u001b[1;33m:\u001b[0m\u001b[1;33m\u001b[0m\u001b[1;33m\u001b[0m\u001b[0m\n\u001b[1;32m---> 64\u001b[1;33m             \u001b[0mencoded\u001b[0m \u001b[1;33m=\u001b[0m \u001b[0mnp\u001b[0m\u001b[1;33m.\u001b[0m\u001b[0marray\u001b[0m\u001b[1;33m(\u001b[0m\u001b[1;33m[\u001b[0m\u001b[0mtable\u001b[0m\u001b[1;33m[\u001b[0m\u001b[0mv\u001b[0m\u001b[1;33m]\u001b[0m \u001b[1;32mfor\u001b[0m \u001b[0mv\u001b[0m \u001b[1;32min\u001b[0m \u001b[0mvalues\u001b[0m\u001b[1;33m]\u001b[0m\u001b[1;33m)\u001b[0m\u001b[1;33m\u001b[0m\u001b[1;33m\u001b[0m\u001b[0m\n\u001b[0m\u001b[0;32m     65\u001b[0m         \u001b[1;32mexcept\u001b[0m \u001b[0mKeyError\u001b[0m \u001b[1;32mas\u001b[0m \u001b[0me\u001b[0m\u001b[1;33m:\u001b[0m\u001b[1;33m\u001b[0m\u001b[1;33m\u001b[0m\u001b[0m\n",
      "\u001b[1;32m~\\Anaconda3\\envs\\Tensorflow\\lib\\site-packages\\sklearn\\preprocessing\\label.py\u001b[0m in \u001b[0;36m<listcomp>\u001b[1;34m(.0)\u001b[0m\n\u001b[0;32m     63\u001b[0m         \u001b[1;32mtry\u001b[0m\u001b[1;33m:\u001b[0m\u001b[1;33m\u001b[0m\u001b[1;33m\u001b[0m\u001b[0m\n\u001b[1;32m---> 64\u001b[1;33m             \u001b[0mencoded\u001b[0m \u001b[1;33m=\u001b[0m \u001b[0mnp\u001b[0m\u001b[1;33m.\u001b[0m\u001b[0marray\u001b[0m\u001b[1;33m(\u001b[0m\u001b[1;33m[\u001b[0m\u001b[0mtable\u001b[0m\u001b[1;33m[\u001b[0m\u001b[0mv\u001b[0m\u001b[1;33m]\u001b[0m \u001b[1;32mfor\u001b[0m \u001b[0mv\u001b[0m \u001b[1;32min\u001b[0m \u001b[0mvalues\u001b[0m\u001b[1;33m]\u001b[0m\u001b[1;33m)\u001b[0m\u001b[1;33m\u001b[0m\u001b[1;33m\u001b[0m\u001b[0m\n\u001b[0m\u001b[0;32m     65\u001b[0m         \u001b[1;32mexcept\u001b[0m \u001b[0mKeyError\u001b[0m \u001b[1;32mas\u001b[0m \u001b[0me\u001b[0m\u001b[1;33m:\u001b[0m\u001b[1;33m\u001b[0m\u001b[1;33m\u001b[0m\u001b[0m\n",
      "\u001b[1;31mKeyError\u001b[0m: '3'",
      "\nDuring handling of the above exception, another exception occurred:\n",
      "\u001b[1;31mValueError\u001b[0m                                Traceback (most recent call last)",
      "\u001b[1;32m<ipython-input-718-7839691f7f30>\u001b[0m in \u001b[0;36m<module>\u001b[1;34m\u001b[0m\n\u001b[0;32m      1\u001b[0m \u001b[1;31m# mapping categorical column values to integer labels\u001b[0m\u001b[1;33m\u001b[0m\u001b[1;33m\u001b[0m\u001b[1;33m\u001b[0m\u001b[0m\n\u001b[0;32m      2\u001b[0m \u001b[1;32mfor\u001b[0m \u001b[0mcol\u001b[0m \u001b[1;32min\u001b[0m \u001b[0mcat_col\u001b[0m\u001b[1;33m:\u001b[0m\u001b[1;33m\u001b[0m\u001b[1;33m\u001b[0m\u001b[0m\n\u001b[1;32m----> 3\u001b[1;33m     \u001b[0mdf_codes\u001b[0m\u001b[1;33m[\u001b[0m\u001b[0mcol\u001b[0m\u001b[1;33m]\u001b[0m \u001b[1;33m=\u001b[0m \u001b[0mle_dict\u001b[0m\u001b[1;33m[\u001b[0m\u001b[0mcol\u001b[0m\u001b[1;33m]\u001b[0m\u001b[1;33m.\u001b[0m\u001b[0mtransform\u001b[0m\u001b[1;33m(\u001b[0m\u001b[0mdf_codes\u001b[0m\u001b[1;33m[\u001b[0m\u001b[0mcol\u001b[0m\u001b[1;33m]\u001b[0m\u001b[1;33m)\u001b[0m\u001b[1;33m.\u001b[0m\u001b[0mcopy\u001b[0m\u001b[1;33m(\u001b[0m\u001b[1;33m)\u001b[0m\u001b[1;33m\u001b[0m\u001b[1;33m\u001b[0m\u001b[0m\n\u001b[0m",
      "\u001b[1;32m~\\Anaconda3\\envs\\Tensorflow\\lib\\site-packages\\sklearn\\preprocessing\\label.py\u001b[0m in \u001b[0;36mtransform\u001b[1;34m(self, y)\u001b[0m\n\u001b[0;32m    255\u001b[0m             \u001b[1;32mreturn\u001b[0m \u001b[0mnp\u001b[0m\u001b[1;33m.\u001b[0m\u001b[0marray\u001b[0m\u001b[1;33m(\u001b[0m\u001b[1;33m[\u001b[0m\u001b[1;33m]\u001b[0m\u001b[1;33m)\u001b[0m\u001b[1;33m\u001b[0m\u001b[1;33m\u001b[0m\u001b[0m\n\u001b[0;32m    256\u001b[0m \u001b[1;33m\u001b[0m\u001b[0m\n\u001b[1;32m--> 257\u001b[1;33m         \u001b[0m_\u001b[0m\u001b[1;33m,\u001b[0m \u001b[0my\u001b[0m \u001b[1;33m=\u001b[0m \u001b[0m_encode\u001b[0m\u001b[1;33m(\u001b[0m\u001b[0my\u001b[0m\u001b[1;33m,\u001b[0m \u001b[0muniques\u001b[0m\u001b[1;33m=\u001b[0m\u001b[0mself\u001b[0m\u001b[1;33m.\u001b[0m\u001b[0mclasses_\u001b[0m\u001b[1;33m,\u001b[0m \u001b[0mencode\u001b[0m\u001b[1;33m=\u001b[0m\u001b[1;32mTrue\u001b[0m\u001b[1;33m)\u001b[0m\u001b[1;33m\u001b[0m\u001b[1;33m\u001b[0m\u001b[0m\n\u001b[0m\u001b[0;32m    258\u001b[0m         \u001b[1;32mreturn\u001b[0m \u001b[0my\u001b[0m\u001b[1;33m\u001b[0m\u001b[1;33m\u001b[0m\u001b[0m\n\u001b[0;32m    259\u001b[0m \u001b[1;33m\u001b[0m\u001b[0m\n",
      "\u001b[1;32m~\\Anaconda3\\envs\\Tensorflow\\lib\\site-packages\\sklearn\\preprocessing\\label.py\u001b[0m in \u001b[0;36m_encode\u001b[1;34m(values, uniques, encode)\u001b[0m\n\u001b[0;32m    103\u001b[0m     \u001b[1;32mif\u001b[0m \u001b[0mvalues\u001b[0m\u001b[1;33m.\u001b[0m\u001b[0mdtype\u001b[0m \u001b[1;33m==\u001b[0m \u001b[0mobject\u001b[0m\u001b[1;33m:\u001b[0m\u001b[1;33m\u001b[0m\u001b[1;33m\u001b[0m\u001b[0m\n\u001b[0;32m    104\u001b[0m         \u001b[1;32mtry\u001b[0m\u001b[1;33m:\u001b[0m\u001b[1;33m\u001b[0m\u001b[1;33m\u001b[0m\u001b[0m\n\u001b[1;32m--> 105\u001b[1;33m             \u001b[0mres\u001b[0m \u001b[1;33m=\u001b[0m \u001b[0m_encode_python\u001b[0m\u001b[1;33m(\u001b[0m\u001b[0mvalues\u001b[0m\u001b[1;33m,\u001b[0m \u001b[0muniques\u001b[0m\u001b[1;33m,\u001b[0m \u001b[0mencode\u001b[0m\u001b[1;33m)\u001b[0m\u001b[1;33m\u001b[0m\u001b[1;33m\u001b[0m\u001b[0m\n\u001b[0m\u001b[0;32m    106\u001b[0m         \u001b[1;32mexcept\u001b[0m \u001b[0mTypeError\u001b[0m\u001b[1;33m:\u001b[0m\u001b[1;33m\u001b[0m\u001b[1;33m\u001b[0m\u001b[0m\n\u001b[0;32m    107\u001b[0m             \u001b[1;32mraise\u001b[0m \u001b[0mTypeError\u001b[0m\u001b[1;33m(\u001b[0m\u001b[1;34m\"argument must be a string or number\"\u001b[0m\u001b[1;33m)\u001b[0m\u001b[1;33m\u001b[0m\u001b[1;33m\u001b[0m\u001b[0m\n",
      "\u001b[1;32m~\\Anaconda3\\envs\\Tensorflow\\lib\\site-packages\\sklearn\\preprocessing\\label.py\u001b[0m in \u001b[0;36m_encode_python\u001b[1;34m(values, uniques, encode)\u001b[0m\n\u001b[0;32m     65\u001b[0m         \u001b[1;32mexcept\u001b[0m \u001b[0mKeyError\u001b[0m \u001b[1;32mas\u001b[0m \u001b[0me\u001b[0m\u001b[1;33m:\u001b[0m\u001b[1;33m\u001b[0m\u001b[1;33m\u001b[0m\u001b[0m\n\u001b[0;32m     66\u001b[0m             raise ValueError(\"y contains previously unseen labels: %s\"\n\u001b[1;32m---> 67\u001b[1;33m                              % str(e))\n\u001b[0m\u001b[0;32m     68\u001b[0m         \u001b[1;32mreturn\u001b[0m \u001b[0muniques\u001b[0m\u001b[1;33m,\u001b[0m \u001b[0mencoded\u001b[0m\u001b[1;33m\u001b[0m\u001b[1;33m\u001b[0m\u001b[0m\n\u001b[0;32m     69\u001b[0m     \u001b[1;32melse\u001b[0m\u001b[1;33m:\u001b[0m\u001b[1;33m\u001b[0m\u001b[1;33m\u001b[0m\u001b[0m\n",
      "\u001b[1;31mValueError\u001b[0m: y contains previously unseen labels: '3'"
     ]
    }
   ],
   "source": [
    "# mapping categorical column values to integer labels\n",
    "for col in cat_col:\n",
    "    df_codes[col] = le_dict[col].transform(df_codes[col]).copy()"
   ]
  },
  {
   "cell_type": "code",
   "execution_count": 719,
   "metadata": {},
   "outputs": [],
   "source": [
    "from joblib import load\n",
    "patient_list_train = load(model_path+'patient_list_test.joblib')"
   ]
  },
  {
   "cell_type": "code",
   "execution_count": 626,
   "metadata": {
    "scrolled": true
   },
   "outputs": [],
   "source": [
    "x_test = df_codes[df_codes['PATIENTNUMBER'].isin(patient_list_train)]"
   ]
  },
  {
   "cell_type": "code",
   "execution_count": 627,
   "metadata": {
    "scrolled": true
   },
   "outputs": [
    {
     "name": "stderr",
     "output_type": "stream",
     "text": [
      "C:\\Users\\anubhav\\Anaconda3\\envs\\Tensorflow\\lib\\site-packages\\pandas\\core\\frame.py:4102: SettingWithCopyWarning: \n",
      "A value is trying to be set on a copy of a slice from a DataFrame\n",
      "\n",
      "See the caveats in the documentation: http://pandas.pydata.org/pandas-docs/stable/user_guide/indexing.html#returning-a-view-versus-a-copy\n",
      "  errors=errors,\n"
     ]
    }
   ],
   "source": [
    "patient_number = x_test['PATIENTNUMBER'].to_list()\n",
    "x_test.drop(labels= 'PATIENTNUMBER', axis = 'columns', inplace = True)\n",
    "x_test.reset_index(inplace=True, drop = True)"
   ]
  },
  {
   "cell_type": "markdown",
   "metadata": {},
   "source": [
    "### Prediction"
   ]
  },
  {
   "cell_type": "code",
   "execution_count": 628,
   "metadata": {},
   "outputs": [],
   "source": [
    "# Generate prediction for the Random Forest Model\n",
    "with open (input_path+'\\cat_col', 'rb') as fp:\n",
    "    cat_col = pickle.load(fp)\n",
    "\n",
    "model_path = 'output/models/'\n",
    "from joblib import load\n",
    "encoder = load(model_path+'OHE.joblib')"
   ]
  },
  {
   "cell_type": "code",
   "execution_count": 629,
   "metadata": {},
   "outputs": [],
   "source": [
    "#x_test = test.drop(labels='INTRA_OP_COMPLICATIONS', axis = 'columns').copy()\n",
    "#y_test = test['INTRA_OP_COMPLICATIONS'].copy() "
   ]
  },
  {
   "cell_type": "code",
   "execution_count": 630,
   "metadata": {
    "scrolled": true
   },
   "outputs": [],
   "source": [
    "# Create dummy variables\n",
    "one_hot_encoded_array = encoder.transform(x_test[cat_col]).toarray()\n",
    "column_name = encoder.get_feature_names(cat_col)\n",
    "x_test_OHE =  pd.DataFrame(one_hot_encoded_array, columns= column_name)\n",
    "x_test = x_test.merge(x_test_OHE, how = 'left', left_index = True, right_index =True) # create dummy variables\n",
    "x_test = x_test.drop(labels = cat_col, axis = 'columns') # drop original variables"
   ]
  },
  {
   "cell_type": "markdown",
   "metadata": {},
   "source": [
    "### Load Models"
   ]
  },
  {
   "cell_type": "code",
   "execution_count": 631,
   "metadata": {},
   "outputs": [],
   "source": [
    "model_path = 'output/models/'"
   ]
  },
  {
   "cell_type": "code",
   "execution_count": 632,
   "metadata": {},
   "outputs": [],
   "source": [
    "# import Random Forest Classifer\n",
    "from joblib import load\n",
    "RFR = load(model_path+'RFR.joblib')"
   ]
  },
  {
   "cell_type": "code",
   "execution_count": 633,
   "metadata": {
    "scrolled": true
   },
   "outputs": [],
   "source": [
    "# Generate prediction for the Random Forest Model\n",
    "results_RFR = pd.DataFrame(RFR.predict(x_test), columns=['pred_label'])\n",
    "results_RFR['pred_prob'] =  pd.DataFrame(RFR.predict_proba(x_test))[1]\n",
    "results_RFR['PATIENTNUMBER'] = patient_number\n",
    "#results_RFR['true_label'] = np.array(y_test)"
   ]
  },
  {
   "cell_type": "code",
   "execution_count": 634,
   "metadata": {},
   "outputs": [
    {
     "name": "stdout",
     "output_type": "stream",
     "text": [
      "    PATIENTNUMBER  pred_prob  pred_label\n",
      "0     22PAT000131   0.067908           0\n",
      "1     15PAT000095   0.164061           0\n",
      "2     11PAT000161   0.046213           0\n",
      "3     15PAT000077   0.035738           0\n",
      "4     15PAT000089   0.018937           0\n",
      "..            ...        ...         ...\n",
      "502      6M000306   0.106120           0\n",
      "503      6M000308   0.096344           0\n",
      "504      6M000309   0.046461           0\n",
      "505      6M000322   0.074516           0\n",
      "506      6M000323   0.081580           0\n",
      "\n",
      "[507 rows x 3 columns]\n"
     ]
    }
   ],
   "source": [
    "print(results_RFR[['PATIENTNUMBER','pred_prob','pred_label']])"
   ]
  },
  {
   "cell_type": "code",
   "execution_count": null,
   "metadata": {},
   "outputs": [],
   "source": []
  }
 ],
 "metadata": {
  "kernelspec": {
   "display_name": "Python 3",
   "language": "python",
   "name": "python3"
  },
  "language_info": {
   "codemirror_mode": {
    "name": "ipython",
    "version": 3
   },
   "file_extension": ".py",
   "mimetype": "text/x-python",
   "name": "python",
   "nbconvert_exporter": "python",
   "pygments_lexer": "ipython3",
   "version": "3.7.4"
  }
 },
 "nbformat": 4,
 "nbformat_minor": 2
}
