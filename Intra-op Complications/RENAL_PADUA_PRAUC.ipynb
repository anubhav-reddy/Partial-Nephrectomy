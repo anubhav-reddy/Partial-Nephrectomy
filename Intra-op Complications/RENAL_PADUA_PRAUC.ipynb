{
 "cells": [
  {
   "cell_type": "code",
   "execution_count": 225,
   "metadata": {},
   "outputs": [],
   "source": [
    "import pandas as pd\n",
    "import numpy as np"
   ]
  },
  {
   "cell_type": "code",
   "execution_count": 226,
   "metadata": {},
   "outputs": [],
   "source": [
    "# Import prospective dataset\n",
    "df= pd.read_excel('H:/RediMinds/DRMahen/Preethi PN_Data validation_2014-2018.xlsx', sheet_name='PN_Data validation_2014-2018')"
   ]
  },
  {
   "cell_type": "code",
   "execution_count": 227,
   "metadata": {},
   "outputs": [],
   "source": [
    "# Import prospective dataset\n",
    "input_path = 'H:\\RediMinds\\VCQI'\n",
    "test = pd.read_csv(input_path+\"\\VCQI_clean_test.csv\")"
   ]
  },
  {
   "cell_type": "code",
   "execution_count": 228,
   "metadata": {},
   "outputs": [],
   "source": [
    "test = test.merge(df[['PATIENTNUMBER','R.E.N.A.L.NEPHROSCORE', 'PADUASCORE']],left_on='PATIENTNUMBER',right_on='PATIENTNUMBER')"
   ]
  },
  {
   "cell_type": "code",
   "execution_count": 229,
   "metadata": {},
   "outputs": [],
   "source": [
    "test_renal = test.dropna(subset=['R.E.N.A.L.NEPHROSCORE']).copy()"
   ]
  },
  {
   "cell_type": "code",
   "execution_count": 230,
   "metadata": {
    "scrolled": true
   },
   "outputs": [
    {
     "data": {
      "text/plain": [
       "8       48\n",
       "7       43\n",
       "9       38\n",
       "6       35\n",
       "5       24\n",
       "7a      22\n",
       "4       21\n",
       "10      19\n",
       "5a      17\n",
       "6a      14\n",
       "8p      14\n",
       "5p      13\n",
       "8x      11\n",
       "8a      11\n",
       "9p      11\n",
       "9a      10\n",
       "4a       9\n",
       "7p       9\n",
       "10p      7\n",
       "4p       7\n",
       "6p       7\n",
       "11       7\n",
       "9x       7\n",
       "6x       6\n",
       "10x      5\n",
       "10a      4\n",
       "7x       3\n",
       "9ah      2\n",
       "5x       2\n",
       "9ph      2\n",
       "3p       1\n",
       "9xh      1\n",
       "11ph     1\n",
       "11xh     1\n",
       "11x      1\n",
       "11p      1\n",
       "3        1\n",
       "5ah      1\n",
       "8ah      1\n",
       "10ph     1\n",
       "4x       1\n",
       "10ah     1\n",
       "Name: R.E.N.A.L.NEPHROSCORE, dtype: int64"
      ]
     },
     "execution_count": 230,
     "metadata": {},
     "output_type": "execute_result"
    }
   ],
   "source": [
    "test_renal['R.E.N.A.L.NEPHROSCORE'].value_counts()"
   ]
  },
  {
   "cell_type": "code",
   "execution_count": 231,
   "metadata": {},
   "outputs": [],
   "source": [
    "test_renal['RENAL_SCORE'] = test_renal['R.E.N.A.L.NEPHROSCORE'].map(lambda x : int(re.findall(r'\\d+', x)[0]))"
   ]
  },
  {
   "cell_type": "code",
   "execution_count": 232,
   "metadata": {},
   "outputs": [],
   "source": [
    "x = test_renal['RENAL_SCORE'].unique().tolist()"
   ]
  },
  {
   "cell_type": "code",
   "execution_count": 233,
   "metadata": {},
   "outputs": [],
   "source": [
    "x.sort()#reverse=True)"
   ]
  },
  {
   "cell_type": "code",
   "execution_count": 234,
   "metadata": {
    "scrolled": true
   },
   "outputs": [],
   "source": [
    "dict_precision = {}\n",
    "dict_recall = {}\n",
    "from sklearn import metrics\n",
    "for i in x:\n",
    "    test_renal['Pred'] = test_renal['RENAL_SCORE'].apply(lambda y: 1 if y>=i else 0)\n",
    "    #print(i, metrics.confusion_matrix(test['INTRA_OP_COMPLICATIONS'], test['Pred']))\n",
    "    dict_precision.update({i:metrics.precision_score(test_renal['INTRA_OP_COMPLICATIONS'], test_renal['Pred'])})\n",
    "    dict_recall.update({i:metrics.recall_score(test_renal['INTRA_OP_COMPLICATIONS'], test_renal['Pred'])})"
   ]
  },
  {
   "cell_type": "code",
   "execution_count": 235,
   "metadata": {},
   "outputs": [
    {
     "data": {
      "text/plain": [
       "{3: 0.05909090909090909,\n",
       " 4: 0.0593607305936073,\n",
       " 5: 0.065,\n",
       " 6: 0.06705539358600583,\n",
       " 7: 0.06761565836298933,\n",
       " 8: 0.07352941176470588,\n",
       " 9: 0.07563025210084033,\n",
       " 10: 0.041666666666666664,\n",
       " 11: 0.0}"
      ]
     },
     "execution_count": 235,
     "metadata": {},
     "output_type": "execute_result"
    }
   ],
   "source": [
    "dict_precision"
   ]
  },
  {
   "cell_type": "code",
   "execution_count": 236,
   "metadata": {},
   "outputs": [
    {
     "data": {
      "text/plain": [
       "{3: 1.0,\n",
       " 4: 1.0,\n",
       " 5: 1.0,\n",
       " 6: 0.8846153846153846,\n",
       " 7: 0.7307692307692307,\n",
       " 8: 0.5769230769230769,\n",
       " 9: 0.34615384615384615,\n",
       " 10: 0.07692307692307693,\n",
       " 11: 0.0}"
      ]
     },
     "execution_count": 236,
     "metadata": {},
     "output_type": "execute_result"
    }
   ],
   "source": [
    "dict_recall"
   ]
  },
  {
   "cell_type": "code",
   "execution_count": 237,
   "metadata": {},
   "outputs": [
    {
     "data": {
      "text/plain": [
       "0.06343846955699882"
      ]
     },
     "execution_count": 237,
     "metadata": {},
     "output_type": "execute_result"
    }
   ],
   "source": [
    "# AUC-PR for RENAL SCORE\n",
    "metrics.auc(list(dict_recall.values()),list(dict_precision.values()))"
   ]
  },
  {
   "cell_type": "code",
   "execution_count": 238,
   "metadata": {},
   "outputs": [
    {
     "data": {
      "text/plain": [
       "[<matplotlib.lines.Line2D at 0x2b4ef57d1c8>]"
      ]
     },
     "execution_count": 238,
     "metadata": {},
     "output_type": "execute_result"
    },
    {
     "data": {
      "image/png": "[encoded data removed]",
      "text/plain": [
       "<Figure size 432x288 with 1 Axes>"
      ]
     },
     "metadata": {
      "needs_background": "light"
     },
     "output_type": "display_data"
    }
   ],
   "source": [
    "plt.xlim([0, 1])\n",
    "plt.ylim([0, 1])\n",
    "plt.plot(list(dict_recall.values()),list(dict_precision.values()))"
   ]
  },
  {
   "cell_type": "markdown",
   "metadata": {},
   "source": [
    "### Calculate AUC-PR for PADUA Score"
   ]
  },
  {
   "cell_type": "code",
   "execution_count": 239,
   "metadata": {},
   "outputs": [],
   "source": [
    "test_padua = test.dropna(subset=['PADUASCORE']).copy()"
   ]
  },
  {
   "cell_type": "code",
   "execution_count": 240,
   "metadata": {
    "scrolled": true
   },
   "outputs": [
    {
     "data": {
      "text/plain": [
       "7.0     94\n",
       "9.0     88\n",
       "8.0     72\n",
       "10.0    68\n",
       "6.0     61\n",
       "11.0    38\n",
       "12.0    17\n",
       "13.0     3\n",
       "Name: PADUASCORE, dtype: int64"
      ]
     },
     "execution_count": 240,
     "metadata": {},
     "output_type": "execute_result"
    }
   ],
   "source": [
    "test_padua['PADUASCORE'].value_counts()"
   ]
  },
  {
   "cell_type": "code",
   "execution_count": 241,
   "metadata": {
    "scrolled": true
   },
   "outputs": [],
   "source": [
    "x = test_padua['PADUASCORE'].unique().tolist()"
   ]
  },
  {
   "cell_type": "code",
   "execution_count": 242,
   "metadata": {},
   "outputs": [],
   "source": [
    "x.sort(reverse=True)"
   ]
  },
  {
   "cell_type": "code",
   "execution_count": 243,
   "metadata": {},
   "outputs": [
    {
     "data": {
      "text/plain": [
       "[13.0, 12.0, 11.0, 10.0, 9.0, 8.0, 7.0, 6.0]"
      ]
     },
     "execution_count": 243,
     "metadata": {},
     "output_type": "execute_result"
    }
   ],
   "source": [
    "x"
   ]
  },
  {
   "cell_type": "code",
   "execution_count": 244,
   "metadata": {
    "scrolled": true
   },
   "outputs": [],
   "source": [
    "dict_precision = {}\n",
    "dict_recall = {}\n",
    "from sklearn import metrics\n",
    "for i in x:\n",
    "    test_renal['Pred'] = test_renal['PADUASCORE'].apply(lambda y: 1 if y>=i else 0)\n",
    "    #print(i, metrics.confusion_matrix(test['INTRA_OP_COMPLICATIONS'], test['Pred']))\n",
    "    dict_precision.update({i:metrics.precision_score(test_renal['INTRA_OP_COMPLICATIONS'], test_renal['Pred'])})\n",
    "    dict_recall.update({i:metrics.recall_score(test_renal['INTRA_OP_COMPLICATIONS'], test_renal['Pred'])})"
   ]
  },
  {
   "cell_type": "code",
   "execution_count": 245,
   "metadata": {},
   "outputs": [
    {
     "data": {
      "text/plain": [
       "{13.0: 0.0,\n",
       " 12.0: 0.05263157894736842,\n",
       " 11.0: 0.03508771929824561,\n",
       " 10.0: 0.056451612903225805,\n",
       " 9.0: 0.07246376811594203,\n",
       " 8.0: 0.06159420289855073,\n",
       " 7.0: 0.06593406593406594,\n",
       " 6.0: 0.059665871121718374}"
      ]
     },
     "execution_count": 245,
     "metadata": {},
     "output_type": "execute_result"
    }
   ],
   "source": [
    "dict_precision"
   ]
  },
  {
   "cell_type": "code",
   "execution_count": 246,
   "metadata": {},
   "outputs": [
    {
     "data": {
      "text/plain": [
       "{13.0: 0.0,\n",
       " 12.0: 0.038461538461538464,\n",
       " 11.0: 0.07692307692307693,\n",
       " 10.0: 0.2692307692307692,\n",
       " 9.0: 0.5769230769230769,\n",
       " 8.0: 0.6538461538461539,\n",
       " 7.0: 0.9230769230769231,\n",
       " 6.0: 0.9615384615384616}"
      ]
     },
     "execution_count": 246,
     "metadata": {},
     "output_type": "execute_result"
    }
   ],
   "source": [
    "dict_recall"
   ]
  },
  {
   "cell_type": "code",
   "execution_count": 247,
   "metadata": {},
   "outputs": [
    {
     "data": {
      "text/plain": [
       "0.05607277590897633"
      ]
     },
     "execution_count": 247,
     "metadata": {},
     "output_type": "execute_result"
    }
   ],
   "source": [
    "metrics.auc(list(dict_recall.values()),list(dict_precision.values()))"
   ]
  },
  {
   "cell_type": "code",
   "execution_count": 248,
   "metadata": {},
   "outputs": [],
   "source": [
    "import matplotlib.pyplot as plt"
   ]
  },
  {
   "cell_type": "code",
   "execution_count": 249,
   "metadata": {},
   "outputs": [
    {
     "data": {
      "text/plain": [
       "[<matplotlib.lines.Line2D at 0x2b4f59515c8>]"
      ]
     },
     "execution_count": 249,
     "metadata": {},
     "output_type": "execute_result"
    },
    {
     "data": {
      "image/png": "[encoded data removed]",
      "text/plain": [
       "<Figure size 432x288 with 1 Axes>"
      ]
     },
     "metadata": {
      "needs_background": "light"
     },
     "output_type": "display_data"
    }
   ],
   "source": [
    "plt.xlim([0, 1])\n",
    "plt.ylim([0, 1])\n",
    "plt.plot(list(dict_recall.values()),list(dict_precision.values()))"
   ]
  },
  {
   "cell_type": "code",
   "execution_count": null,
   "metadata": {},
   "outputs": [],
   "source": []
  }
 ],
 "metadata": {
  "kernelspec": {
   "display_name": "Python 3",
   "language": "python",
   "name": "python3"
  },
  "language_info": {
   "codemirror_mode": {
    "name": "ipython",
    "version": 3
   },
   "file_extension": ".py",
   "mimetype": "text/x-python",
   "name": "python",
   "nbconvert_exporter": "python",
   "pygments_lexer": "ipython3",
   "version": "3.7.4"
  }
 },
 "nbformat": 4,
 "nbformat_minor": 2
}
