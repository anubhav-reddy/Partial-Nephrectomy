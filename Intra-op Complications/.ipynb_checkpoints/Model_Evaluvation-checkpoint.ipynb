{
 "cells": [
  {
   "cell_type": "code",
   "execution_count": 37,
   "metadata": {},
   "outputs": [],
   "source": [
    "# import packages\n",
    "import pandas as pd\n",
    "import numpy as np\n",
    "import pickle\n",
    "from sklearn import metrics\n",
    "from tensorflow import keras"
   ]
  },
  {
   "cell_type": "code",
   "execution_count": 3,
   "metadata": {},
   "outputs": [],
   "source": [
    "# load test data\n",
    "input_path = 'H:\\RediMinds\\VCQI'\n",
    "#train = pd.read_csv(input_path+\"\\VCQI_clean_train.csv\")\n",
    "test = pd.read_csv(input_path+\"\\VCQI_clean_test.csv\")"
   ]
  },
  {
   "cell_type": "code",
   "execution_count": 4,
   "metadata": {},
   "outputs": [],
   "source": [
    "#x_train = train.drop(labels='INTRA_OP_COMPLICATIONS', axis = 'columns').copy()\n",
    "#y_train = train['INTRA_OP_COMPLICATIONS'].copy()\n",
    "x_test = test.drop(labels='INTRA_OP_COMPLICATIONS', axis = 'columns').copy()\n",
    "y_test = test['INTRA_OP_COMPLICATIONS'].copy() "
   ]
  },
  {
   "cell_type": "code",
   "execution_count": 5,
   "metadata": {},
   "outputs": [
    {
     "name": "stdout",
     "output_type": "stream",
     "text": [
      "% pos labels test 0.05\n"
     ]
    }
   ],
   "source": [
    "# check % of pos labels in test set\n",
    "#print('% pos labels train {:.2f}'.format(y_train.sum()/len(y_train)))\n",
    "print('% pos labels test {:.2f}'.format(y_test.sum()/len(y_test)))"
   ]
  },
  {
   "cell_type": "markdown",
   "metadata": {},
   "source": [
    "### Load Models"
   ]
  },
  {
   "cell_type": "code",
   "execution_count": 39,
   "metadata": {},
   "outputs": [],
   "source": [
    "model_path = 'output/models/'"
   ]
  },
  {
   "cell_type": "code",
   "execution_count": 19,
   "metadata": {},
   "outputs": [],
   "source": [
    "# import Decision Tree Classifier\n",
    "from joblib import load\n",
    "DTC = load(model_path+'DTC.joblib')\n"
   ]
  },
  {
   "cell_type": "code",
   "execution_count": 20,
   "metadata": {},
   "outputs": [],
   "source": [
    "# import Random Forest Classifer\n",
    "from joblib import load\n",
    "RFR = load(model_path+'RFR.joblib')"
   ]
  },
  {
   "cell_type": "code",
   "execution_count": 21,
   "metadata": {},
   "outputs": [],
   "source": [
    "# import Random Forest Classifer\n",
    "from joblib import load\n",
    "Logit = load(model_path+'Logit.joblib')"
   ]
  },
  {
   "cell_type": "code",
   "execution_count": 40,
   "metadata": {},
   "outputs": [
    {
     "name": "stderr",
     "output_type": "stream",
     "text": [
      "WARNING: Logging before flag parsing goes to stderr.\n",
      "W0904 17:02:03.174817  9480 deprecation.py:323] From H:\\Anaconda3\\lib\\site-packages\\tensorflow\\python\\keras\\metrics.py:1792: add_dispatch_support.<locals>.wrapper (from tensorflow.python.ops.array_ops) is deprecated and will be removed in a future version.\n",
      "Instructions for updating:\n",
      "Use tf.where in 2.0, which has the same broadcast rule as np.where\n"
     ]
    }
   ],
   "source": [
    "# load Neural Network Model\n",
    "nn_model = keras.models.load_model(model_path+'nn_model.h5')"
   ]
  },
  {
   "cell_type": "markdown",
   "metadata": {},
   "source": [
    "### Generate Predictions for the Test set"
   ]
  },
  {
   "cell_type": "code",
   "execution_count": 22,
   "metadata": {},
   "outputs": [],
   "source": [
    "# Generate prediction for the Decsiion Tree Model\n",
    "results_DTC = pd.DataFrame(DTC.predict(x_test), columns=['pred_label'])\n",
    "results_DTC['pred_prob'] =  pd.DataFrame(DTC.predict_proba(x_test))[1]\n",
    "results_DTC['true_label'] = np.array(y_test)"
   ]
  },
  {
   "cell_type": "code",
   "execution_count": 23,
   "metadata": {},
   "outputs": [],
   "source": [
    "# Generate prediction for the Random Forest Model\n",
    "results_RFR = pd.DataFrame(RFR.predict(x_test), columns=['pred_label'])\n",
    "results_RFR['pred_prob'] =  pd.DataFrame(RFR.predict_proba(x_test))[1]\n",
    "results_RFR['true_label'] = np.array(y_test)"
   ]
  },
  {
   "cell_type": "code",
   "execution_count": 32,
   "metadata": {},
   "outputs": [],
   "source": [
    "# Generate prediction for the Random Forest Model\n",
    "\n",
    "# load list of categorical variables\n",
    "with open (input_path+'\\cat_col', 'rb') as fp:\n",
    "    cat_col = pickle.load(fp)\n",
    "\n",
    "# Create dummy variables\n",
    "logit_test = x_test.copy()\n",
    "for col in cat_col:\n",
    "    if not col == 'INTRA_OP_COMPLICATIONS':\n",
    "        logit_test = logit_test.merge(pd.get_dummies(logit_test[col], prefix=col), how = 'left', left_index = True, right_index =True) # create dummy variables\n",
    "        logit_test = logit_test.drop(labels = col, axis = 'columns') # drop original variables\n",
    "\n",
    "\n",
    "\n",
    "# Generate prediction for the Logitic Regressions Model\n",
    "results_Logit = pd.DataFrame(Logit.predict(logit_test), columns=['pred_label'])\n",
    "results_Logit['pred_prob'] =  pd.DataFrame(Logit.predict_proba(logit_test))[1]\n",
    "results_Logit['true_label'] = np.array(y_test)"
   ]
  },
  {
   "cell_type": "code",
   "execution_count": 50,
   "metadata": {
    "scrolled": true
   },
   "outputs": [],
   "source": [
    "# Generate prediction for Neural Network Model\n",
    "\n",
    "# import Random Forest Classifer\n",
    "from joblib import load\n",
    "stdc = load(model_path+'nn_stdc.joblib')\n",
    "\n",
    "#To prepare test data we will use test with one-hotcoded variables\n",
    "nn_test = logit_test.copy()\n",
    "float_col = test.select_dtypes('float').columns\n",
    "nn_test[float_col] = pd.DataFrame(stdc.transform(nn_test[float_col]),columns=float_col).copy()\n",
    "\n",
    "# Generate prediction for the Neural Network Model\n",
    "results_nn = pd.DataFrame(nn_model.predict(nn_test), columns=['pred_prob'])\n",
    "results_nn['pred_label'] =  results_nn['pred_prob'].apply(lambda x: 1 if x>=0.5 else 0)\n",
    "results_nn['true_label'] = np.array(y_test)"
   ]
  },
  {
   "cell_type": "code",
   "execution_count": 53,
   "metadata": {},
   "outputs": [],
   "source": []
  },
  {
   "cell_type": "code",
   "execution_count": null,
   "metadata": {},
   "outputs": [],
   "source": []
  }
 ],
 "metadata": {
  "kernelspec": {
   "display_name": "Python 3",
   "language": "python",
   "name": "python3"
  },
  "language_info": {
   "codemirror_mode": {
    "name": "ipython",
    "version": 3
   },
   "file_extension": ".py",
   "mimetype": "text/x-python",
   "name": "python",
   "nbconvert_exporter": "python",
   "pygments_lexer": "ipython3",
   "version": "3.6.8"
  }
 },
 "nbformat": 4,
 "nbformat_minor": 2
}
